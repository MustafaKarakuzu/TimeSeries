{
 "cells": [
  {
   "cell_type": "markdown",
   "id": "b392e5cc",
   "metadata": {},
   "source": [
    "# Autoregressive Distributed Lag Model"
   ]
  },
  {
   "cell_type": "code",
   "execution_count": 1,
   "id": "a3380287",
   "metadata": {},
   "outputs": [],
   "source": [
    "import numpy as np\n",
    "import pandas as pd\n",
    "import matplotlib.pyplot as plt\n",
    "import tabulate\n",
    "import statsmodels.api as sm\n",
    "from statsmodels.tsa.api import ARDL\n",
    "from statsmodels.tsa.ar_model import AutoReg"
   ]
  },
  {
   "cell_type": "code",
   "execution_count": 2,
   "id": "7b210e7c",
   "metadata": {},
   "outputs": [],
   "source": [
    "data0=pd.read_excel(\"ARDLdata.xlsx\")"
   ]
  },
  {
   "cell_type": "markdown",
   "id": "eeaa7284",
   "metadata": {},
   "source": [
    "##### Data is obtained from Türkiye Central Bank for Türkiye. The time period where  from 2013-01 to 2023-02  is covered by data. All data set are index type. The question of analysis is that whether there is long run relationship between real effective exchance index and the export of consumption goods quatity index."
   ]
  },
  {
   "cell_type": "code",
   "execution_count": 3,
   "id": "4c8fbee5",
   "metadata": {},
   "outputs": [
    {
     "name": "stdout",
     "output_type": "stream",
     "text": [
      "rows: 122\n",
      "columns: 13\n",
      "              excap      uexcap        exig       uexig      excons  \\\n",
      "year                                                                  \n",
      "2013-01   72.774922  114.548865   89.549035  119.858315   78.879185   \n",
      "2013-02   87.779822  115.929133   93.659720  120.523347   83.823380   \n",
      "2013-03   89.235707  113.086478  104.075595  119.110688   90.611344   \n",
      "2013-04   83.719653  113.187796  100.123254  117.845872   88.513588   \n",
      "2013-05   90.333201  114.163612  105.533807  116.702413   92.782109   \n",
      "...             ...         ...         ...         ...         ...   \n",
      "2022-10  175.110803  113.174784  142.459137  123.157421  162.892306   \n",
      "2022-11  174.445293  117.248701  146.027841  124.733818  161.232846   \n",
      "2022-12  185.873058  121.737568  146.362538  127.002810  168.916898   \n",
      "2023-01  134.376116  124.815086  129.953531  126.489730  136.593404   \n",
      "2023-02  138.785520  126.259345  123.623595  127.260331  126.886816   \n",
      "\n",
      "            uexcons       imcap      uimcap        imig       uimig  \\\n",
      "year                                                                  \n",
      "2013-01  114.511310   84.340768  105.766078   90.167212  132.891582   \n",
      "2013-02  114.680933   89.297664  107.961087   89.863271  135.790774   \n",
      "2013-03  111.575199   96.108701  103.119969   94.235064  133.455074   \n",
      "2013-04  110.365940  104.451273  107.093657  107.689758  133.020017   \n",
      "2013-05  111.056433  108.438602  109.213732  108.737383  130.088884   \n",
      "...             ...         ...         ...         ...         ...   \n",
      "2022-10   94.444504  103.875716  108.820265  124.109046  152.604546   \n",
      "2022-11   95.705860  116.539234  107.283859  132.302235  146.460177   \n",
      "2022-12   97.038124  137.733282  109.965108  142.140608  142.161375   \n",
      "2023-01  101.125527  115.346035  107.378162  145.696337  151.319201   \n",
      "2023-02  102.277631  113.709735  104.833166  136.588059  141.996309   \n",
      "\n",
      "             imcons     uimcons    rexc  \n",
      "year                                     \n",
      "2013-01   74.792556  109.944894  113.14  \n",
      "2013-02   88.757001  110.860209  112.53  \n",
      "2013-03  105.959916  109.200783  112.66  \n",
      "2013-04   97.163808  112.042750  113.63  \n",
      "2013-05  104.063433  110.595475  112.05  \n",
      "...             ...         ...     ...  \n",
      "2022-10   81.003497  128.122798   55.56  \n",
      "2022-11  107.762177  115.897717   55.78  \n",
      "2022-12  112.606220  116.992961   54.84  \n",
      "2023-01   95.596786  118.982536   57.02  \n",
      "2023-02  110.222465  120.263358   58.60  \n",
      "\n",
      "[122 rows x 13 columns]\n"
     ]
    }
   ],
   "source": [
    "data = data0.copy()\n",
    "data['year']= pd.to_datetime(data['year'], dayfirst=True)\n",
    "data.set_index('year', inplace=True)\n",
    "data.asfreq('M')\n",
    "data.index = data.index.to_period('M')\n",
    "print('rows:',data.shape[0])\n",
    "print('columns:',data.shape[1])\n",
    "print(data)"
   ]
  },
  {
   "cell_type": "markdown",
   "id": "6c1e52c9",
   "metadata": {},
   "source": [
    "## Describing Data"
   ]
  },
  {
   "cell_type": "code",
   "execution_count": 4,
   "id": "172d37c7",
   "metadata": {},
   "outputs": [],
   "source": [
    "imcap=data.iloc[:,[6]] #---------> imported capital goods quantity index\n",
    "imig=data.iloc[:,[8]] #---------> imported intermediate goods quantity index\n",
    "imcons=data.iloc[:,[10]] #---------> imported consumption goods quantity index\n",
    "excap=data.iloc[:,[0]] #---------> exported capital goods quantity index\n",
    "exig=data.iloc[:,[2]] #---------> exported intermediate goods quantity index\n",
    "excons=data.iloc[:,[4]] #---------> exported consumption goods quantity index\n",
    "rexc=data.iloc[:,[12]] #---------> real effective exchange index"
   ]
  },
  {
   "cell_type": "markdown",
   "id": "afd67616",
   "metadata": {},
   "source": [
    "## Select The Optimal Lag"
   ]
  },
  {
   "cell_type": "markdown",
   "id": "00f08952",
   "metadata": {},
   "source": [
    "To start the analysis, firstly the optimal lag point have to be selected. Akaike and Schwarz information criterion are common tools for calculate the optimal lag point. The formulas had been showed below.<br><br>\n",
    "LLH ------------> likelihood value of regression.<br>\n",
    "k ------------> number of independent variables.<br>\n",
    "n ------------> number of observation."
   ]
  },
  {
   "cell_type": "code",
   "execution_count": 5,
   "id": "1689563d",
   "metadata": {},
   "outputs": [],
   "source": [
    "# This function takes the likelihood values.\n",
    "def to_llf(p,q):                            \n",
    "    model=ARDL(excons,p,rexc,q).fit()\n",
    "    return model.llf"
   ]
  },
  {
   "cell_type": "markdown",
   "id": "816f80ff",
   "metadata": {},
   "source": [
    "## $AIC=\\frac{-2LLH}{n}+\\frac{2k}{n}$ "
   ]
  },
  {
   "cell_type": "markdown",
   "id": "f2d2dfce",
   "metadata": {},
   "source": [
    "## $BIC=\\frac{-2LLH}{n}+\\frac{k*log(n)}{n}$"
   ]
  },
  {
   "cell_type": "code",
   "execution_count": 6,
   "id": "41935aa5",
   "metadata": {},
   "outputs": [],
   "source": [
    "result_aic=[]\n",
    "i_arr=[]\n",
    "j_arr=[]\n",
    "k_arr=[]\n",
    "obs_arr=[]\n",
    "'''In this inline the essential variables are created for calculate information criterion values.\n",
    "   With this itteration, (to_llf) function is used in all possible ARDL model.\n",
    "   Taking likelihood values are added to empty list object.\n",
    "'''\n",
    "for i in range(0,13,1):\n",
    "    for j in range(1,13,1):\n",
    "        k=i+j+2 #----------------------------------> number of independent variables\n",
    "        obs=len(data)-(j)\n",
    "        '''To take lag causes to lose value of data and to properly\n",
    "            calculate AIC and SCI, the number of observations\n",
    "            have to be adjusted according to how much values are losed.\n",
    "            'obs' is to adjust number of observation according to max lag number.'''                    \n",
    "        output_aic=to_llf(j,i)\n",
    "        result_aic.append(output_aic)\n",
    "        i_arr.append(i)\n",
    "        j_arr.append(j)\n",
    "        k_arr.append(k)\n",
    "        obs_arr.append(obs)"
   ]
  },
  {
   "cell_type": "code",
   "execution_count": 7,
   "id": "b37f9d54",
   "metadata": {},
   "outputs": [],
   "source": [
    "i=pd.DataFrame(i_arr)\n",
    "j=pd.DataFrame(j_arr)\n",
    "lags_op=j.astype(str)+\"-\"+i.astype(str)\n",
    "lags=pd.DataFrame(lags_op)"
   ]
  },
  {
   "cell_type": "code",
   "execution_count": 8,
   "id": "ef874351",
   "metadata": {},
   "outputs": [],
   "source": [
    "k=pd.DataFrame(k_arr)"
   ]
  },
  {
   "cell_type": "code",
   "execution_count": 9,
   "id": "90bfbf6d",
   "metadata": {},
   "outputs": [],
   "source": [
    "obs=pd.DataFrame(obs_arr)"
   ]
  },
  {
   "cell_type": "code",
   "execution_count": 10,
   "id": "0b891a4e",
   "metadata": {},
   "outputs": [],
   "source": [
    "llf_df=pd.DataFrame(result_aic)"
   ]
  },
  {
   "cell_type": "code",
   "execution_count": 11,
   "id": "0fd0d952",
   "metadata": {},
   "outputs": [],
   "source": [
    "log_obs=obs.apply(np.log)\n",
    "log_obs1=pd.DataFrame(log_obs)"
   ]
  },
  {
   "cell_type": "code",
   "execution_count": 12,
   "id": "3943e211",
   "metadata": {},
   "outputs": [],
   "source": [
    "AIC=(-2*llf_df+2*k)/obs  #-----------------> Akaike information criterion formula"
   ]
  },
  {
   "cell_type": "code",
   "execution_count": 13,
   "id": "7b197d35",
   "metadata": {},
   "outputs": [],
   "source": [
    "BIC=(-2*llf_df+k*log_obs1)/obs #-----------------> Schwarz information criterion formula"
   ]
  },
  {
   "cell_type": "code",
   "execution_count": 14,
   "id": "aea825cc",
   "metadata": {},
   "outputs": [],
   "source": [
    "AIC_df=pd.DataFrame(AIC)"
   ]
  },
  {
   "cell_type": "code",
   "execution_count": 15,
   "id": "943c142d",
   "metadata": {},
   "outputs": [],
   "source": [
    "BIC_df=pd.DataFrame(BIC)"
   ]
  },
  {
   "cell_type": "code",
   "execution_count": 16,
   "id": "f9e72d83",
   "metadata": {},
   "outputs": [],
   "source": [
    "info=pd.concat([lags, k, obs, llf_df, log_obs1,AIC_df,BIC_df], axis=1,ignore_index=True)"
   ]
  },
  {
   "cell_type": "code",
   "execution_count": 17,
   "id": "bb0e7065",
   "metadata": {},
   "outputs": [
    {
     "data": {
      "text/html": [
       "<div>\n",
       "<style scoped>\n",
       "    .dataframe tbody tr th:only-of-type {\n",
       "        vertical-align: middle;\n",
       "    }\n",
       "\n",
       "    .dataframe tbody tr th {\n",
       "        vertical-align: top;\n",
       "    }\n",
       "\n",
       "    .dataframe thead th {\n",
       "        text-align: right;\n",
       "    }\n",
       "</style>\n",
       "<table border=\"1\" class=\"dataframe\">\n",
       "  <thead>\n",
       "    <tr style=\"text-align: right;\">\n",
       "      <th></th>\n",
       "      <th>0</th>\n",
       "      <th>1</th>\n",
       "      <th>2</th>\n",
       "      <th>3</th>\n",
       "      <th>4</th>\n",
       "      <th>5</th>\n",
       "      <th>6</th>\n",
       "    </tr>\n",
       "  </thead>\n",
       "  <tbody>\n",
       "    <tr>\n",
       "      <th>0</th>\n",
       "      <td>1-0</td>\n",
       "      <td>3</td>\n",
       "      <td>121</td>\n",
       "      <td>-496.374194</td>\n",
       "      <td>4.795791</td>\n",
       "      <td>8.254119</td>\n",
       "      <td>8.323436</td>\n",
       "    </tr>\n",
       "    <tr>\n",
       "      <th>1</th>\n",
       "      <td>2-0</td>\n",
       "      <td>4</td>\n",
       "      <td>120</td>\n",
       "      <td>-492.646472</td>\n",
       "      <td>4.787492</td>\n",
       "      <td>8.277441</td>\n",
       "      <td>8.370358</td>\n",
       "    </tr>\n",
       "    <tr>\n",
       "      <th>2</th>\n",
       "      <td>3-0</td>\n",
       "      <td>5</td>\n",
       "      <td>119</td>\n",
       "      <td>-487.767217</td>\n",
       "      <td>4.779123</td>\n",
       "      <td>8.281802</td>\n",
       "      <td>8.398572</td>\n",
       "    </tr>\n",
       "    <tr>\n",
       "      <th>3</th>\n",
       "      <td>4-0</td>\n",
       "      <td>6</td>\n",
       "      <td>118</td>\n",
       "      <td>-483.763956</td>\n",
       "      <td>4.770685</td>\n",
       "      <td>8.301084</td>\n",
       "      <td>8.441966</td>\n",
       "    </tr>\n",
       "    <tr>\n",
       "      <th>4</th>\n",
       "      <td>5-0</td>\n",
       "      <td>7</td>\n",
       "      <td>117</td>\n",
       "      <td>-479.879664</td>\n",
       "      <td>4.762174</td>\n",
       "      <td>8.322729</td>\n",
       "      <td>8.487988</td>\n",
       "    </tr>\n",
       "    <tr>\n",
       "      <th>...</th>\n",
       "      <td>...</td>\n",
       "      <td>...</td>\n",
       "      <td>...</td>\n",
       "      <td>...</td>\n",
       "      <td>...</td>\n",
       "      <td>...</td>\n",
       "      <td>...</td>\n",
       "    </tr>\n",
       "    <tr>\n",
       "      <th>151</th>\n",
       "      <td>8-12</td>\n",
       "      <td>22</td>\n",
       "      <td>114</td>\n",
       "      <td>-461.089914</td>\n",
       "      <td>4.736198</td>\n",
       "      <td>8.475262</td>\n",
       "      <td>9.003300</td>\n",
       "    </tr>\n",
       "    <tr>\n",
       "      <th>152</th>\n",
       "      <td>9-12</td>\n",
       "      <td>23</td>\n",
       "      <td>113</td>\n",
       "      <td>-457.543057</td>\n",
       "      <td>4.727388</td>\n",
       "      <td>8.505187</td>\n",
       "      <td>9.060319</td>\n",
       "    </tr>\n",
       "    <tr>\n",
       "      <th>153</th>\n",
       "      <td>10-12</td>\n",
       "      <td>24</td>\n",
       "      <td>112</td>\n",
       "      <td>-453.717848</td>\n",
       "      <td>4.718499</td>\n",
       "      <td>8.530676</td>\n",
       "      <td>9.113211</td>\n",
       "    </tr>\n",
       "    <tr>\n",
       "      <th>154</th>\n",
       "      <td>11-12</td>\n",
       "      <td>25</td>\n",
       "      <td>111</td>\n",
       "      <td>-449.344721</td>\n",
       "      <td>4.709530</td>\n",
       "      <td>8.546752</td>\n",
       "      <td>9.157006</td>\n",
       "    </tr>\n",
       "    <tr>\n",
       "      <th>155</th>\n",
       "      <td>12-12</td>\n",
       "      <td>26</td>\n",
       "      <td>110</td>\n",
       "      <td>-437.678559</td>\n",
       "      <td>4.700480</td>\n",
       "      <td>8.430519</td>\n",
       "      <td>9.068815</td>\n",
       "    </tr>\n",
       "  </tbody>\n",
       "</table>\n",
       "<p>156 rows × 7 columns</p>\n",
       "</div>"
      ],
      "text/plain": [
       "         0   1    2           3         4         5         6\n",
       "0      1-0   3  121 -496.374194  4.795791  8.254119  8.323436\n",
       "1      2-0   4  120 -492.646472  4.787492  8.277441  8.370358\n",
       "2      3-0   5  119 -487.767217  4.779123  8.281802  8.398572\n",
       "3      4-0   6  118 -483.763956  4.770685  8.301084  8.441966\n",
       "4      5-0   7  117 -479.879664  4.762174  8.322729  8.487988\n",
       "..     ...  ..  ...         ...       ...       ...       ...\n",
       "151   8-12  22  114 -461.089914  4.736198  8.475262  9.003300\n",
       "152   9-12  23  113 -457.543057  4.727388  8.505187  9.060319\n",
       "153  10-12  24  112 -453.717848  4.718499  8.530676  9.113211\n",
       "154  11-12  25  111 -449.344721  4.709530  8.546752  9.157006\n",
       "155  12-12  26  110 -437.678559  4.700480  8.430519  9.068815\n",
       "\n",
       "[156 rows x 7 columns]"
      ]
     },
     "execution_count": 17,
     "metadata": {},
     "output_type": "execute_result"
    }
   ],
   "source": [
    "info"
   ]
  },
  {
   "cell_type": "code",
   "execution_count": 18,
   "id": "d05ead91",
   "metadata": {},
   "outputs": [],
   "source": [
    "AIC_ten = info.iloc[:,5].nsmallest(10).iloc[0:-1]\n",
    "BIC_ten = info.iloc[:,6].nsmallest(10).iloc[0:-1]"
   ]
  },
  {
   "cell_type": "code",
   "execution_count": 19,
   "id": "d8b84c82",
   "metadata": {
    "scrolled": true
   },
   "outputs": [
    {
     "name": "stdout",
     "output_type": "stream",
     "text": [
      "0     8.254119\n",
      "24    8.261693\n",
      "12    8.266717\n",
      "1     8.277441\n",
      "36    8.277929\n",
      "2     8.281802\n",
      "26    8.285785\n",
      "25    8.286985\n",
      "11    8.288312\n",
      "Name: 5, dtype: float64\n",
      "0     8.323436\n",
      "12    8.359139\n",
      "1     8.370358\n",
      "24    8.377222\n",
      "2     8.398572\n",
      "13    8.406624\n",
      "36    8.416564\n",
      "25    8.426360\n",
      "14    8.431086\n",
      "Name: 6, dtype: float64\n"
     ]
    }
   ],
   "source": [
    "print(AIC_ten) #-------> first 10 minimum values of Akaike\n",
    "print(BIC_ten)  #-------> first 10 minimum values of Schwarz"
   ]
  },
  {
   "cell_type": "code",
   "execution_count": 20,
   "id": "6446bc45",
   "metadata": {},
   "outputs": [
    {
     "data": {
      "text/html": [
       "<div>\n",
       "<style scoped>\n",
       "    .dataframe tbody tr th:only-of-type {\n",
       "        vertical-align: middle;\n",
       "    }\n",
       "\n",
       "    .dataframe tbody tr th {\n",
       "        vertical-align: top;\n",
       "    }\n",
       "\n",
       "    .dataframe thead th {\n",
       "        text-align: right;\n",
       "    }\n",
       "</style>\n",
       "<table border=\"1\" class=\"dataframe\">\n",
       "  <thead>\n",
       "    <tr style=\"text-align: right;\">\n",
       "      <th></th>\n",
       "      <th>0</th>\n",
       "      <th>1</th>\n",
       "      <th>2</th>\n",
       "      <th>3</th>\n",
       "      <th>4</th>\n",
       "      <th>5</th>\n",
       "      <th>6</th>\n",
       "    </tr>\n",
       "  </thead>\n",
       "  <tbody>\n",
       "    <tr>\n",
       "      <th>0</th>\n",
       "      <td>1-0</td>\n",
       "      <td>3</td>\n",
       "      <td>121</td>\n",
       "      <td>-496.374194</td>\n",
       "      <td>4.795791</td>\n",
       "      <td>8.254119</td>\n",
       "      <td>8.323436</td>\n",
       "    </tr>\n",
       "  </tbody>\n",
       "</table>\n",
       "</div>"
      ],
      "text/plain": [
       "     0  1    2           3         4         5         6\n",
       "0  1-0  3  121 -496.374194  4.795791  8.254119  8.323436"
      ]
     },
     "execution_count": 20,
     "metadata": {},
     "output_type": "execute_result"
    }
   ],
   "source": [
    "info.iloc[0:1,:]"
   ]
  },
  {
   "cell_type": "markdown",
   "id": "605ed30b",
   "metadata": {},
   "source": [
    "To select optimal lag point, the all possible ARDL model had been tested and the likelihood value of them had been taked for calculate Akaike and Schwarz values. The maximum lag point is 12. Because of that, 156 diffirent model was created. To see which model has the minimum information criterion value, results had been ordered from smallest to largest. As seen above, ARDL(1,0) lag point was chosed with 8,25 AIC and 8,32 SCI."
   ]
  },
  {
   "cell_type": "markdown",
   "id": "1a047da3",
   "metadata": {},
   "source": [
    "## ARDL"
   ]
  },
  {
   "cell_type": "markdown",
   "id": "742c92a6",
   "metadata": {},
   "source": [
    "After select the optimal lag point, the long run regression can be runned. In economics the long run refres the time period bigger 1 or 2 years. But in econometrics the long run refers the data which hadn't been taken the difference. The process of take difference of data causing the lose past time values causes to data has only itself time information. Because of that the long run regression refers that  the variables in this regression hadn't been taken difference."
   ]
  },
  {
   "cell_type": "markdown",
   "id": "ffc3e5ba",
   "metadata": {},
   "source": [
    "### Long Run Regression"
   ]
  },
  {
   "cell_type": "markdown",
   "id": "b515b6a7",
   "metadata": {},
   "source": [
    "$ y_{t}=\\alpha + \\sum^m_{i=1}\\beta_{1}y_{t-i} + \\sum^n_{j=0}\\beta_{2}x_{1t-j} + \\epsilon_{t}$"
   ]
  },
  {
   "cell_type": "code",
   "execution_count": 21,
   "id": "67f2185a",
   "metadata": {},
   "outputs": [],
   "source": [
    "modelARDL=ARDL(excons,1,rexc).fit()   #---------------> ARDL(1,0)"
   ]
  },
  {
   "cell_type": "code",
   "execution_count": 22,
   "id": "7a78a516",
   "metadata": {},
   "outputs": [
    {
     "data": {
      "text/html": [
       "<table class=\"simpletable\">\n",
       "<tr>\n",
       "      <td></td>         <th>coef</th>     <th>std err</th>      <th>z</th>      <th>P>|z|</th>  <th>[0.025</th>    <th>0.975]</th>  \n",
       "</tr>\n",
       "<tr>\n",
       "  <th>const</th>     <td>  133.6779</td> <td>   18.311</td> <td>    7.300</td> <td> 0.000</td> <td>   97.417</td> <td>  169.939</td>\n",
       "</tr>\n",
       "<tr>\n",
       "  <th>excons.L1</th> <td>    0.3265</td> <td>    0.086</td> <td>    3.777</td> <td> 0.000</td> <td>    0.155</td> <td>    0.498</td>\n",
       "</tr>\n",
       "<tr>\n",
       "  <th>rexc.L0</th>   <td>   -0.6432</td> <td>    0.111</td> <td>   -5.803</td> <td> 0.000</td> <td>   -0.863</td> <td>   -0.424</td>\n",
       "</tr>\n",
       "</table>"
      ],
      "text/plain": [
       "<class 'statsmodels.iolib.table.SimpleTable'>"
      ]
     },
     "execution_count": 22,
     "metadata": {},
     "output_type": "execute_result"
    }
   ],
   "source": [
    "modelARDL.summary().tables[1]"
   ]
  },
  {
   "cell_type": "markdown",
   "id": "85c093b0",
   "metadata": {},
   "source": [
    "To confidence results of regression, some diagnostic tests should be made."
   ]
  },
  {
   "cell_type": "code",
   "execution_count": 23,
   "id": "06dc45c4",
   "metadata": {},
   "outputs": [],
   "source": [
    "resids=pd.DataFrame(modelARDL.resid,columns=[\"resids\"])"
   ]
  },
  {
   "cell_type": "code",
   "execution_count": 24,
   "id": "e8914b88",
   "metadata": {},
   "outputs": [
    {
     "data": {
      "text/html": [
       "<div>\n",
       "<style scoped>\n",
       "    .dataframe tbody tr th:only-of-type {\n",
       "        vertical-align: middle;\n",
       "    }\n",
       "\n",
       "    .dataframe tbody tr th {\n",
       "        vertical-align: top;\n",
       "    }\n",
       "\n",
       "    .dataframe thead th {\n",
       "        text-align: right;\n",
       "    }\n",
       "</style>\n",
       "<table border=\"1\" class=\"dataframe\">\n",
       "  <thead>\n",
       "    <tr style=\"text-align: right;\">\n",
       "      <th></th>\n",
       "      <th>resids</th>\n",
       "    </tr>\n",
       "    <tr>\n",
       "      <th>year</th>\n",
       "      <th></th>\n",
       "    </tr>\n",
       "  </thead>\n",
       "  <tbody>\n",
       "    <tr>\n",
       "      <th>2013-02</th>\n",
       "      <td>-3.232592</td>\n",
       "    </tr>\n",
       "    <tr>\n",
       "      <th>2013-03</th>\n",
       "      <td>2.024526</td>\n",
       "    </tr>\n",
       "    <tr>\n",
       "      <th>2013-04</th>\n",
       "      <td>-1.665849</td>\n",
       "    </tr>\n",
       "    <tr>\n",
       "      <th>2013-05</th>\n",
       "      <td>2.271416</td>\n",
       "    </tr>\n",
       "    <tr>\n",
       "      <th>2013-06</th>\n",
       "      <td>-5.743521</td>\n",
       "    </tr>\n",
       "    <tr>\n",
       "      <th>...</th>\n",
       "      <td>...</td>\n",
       "    </tr>\n",
       "    <tr>\n",
       "      <th>2022-10</th>\n",
       "      <td>11.535072</td>\n",
       "    </tr>\n",
       "    <tr>\n",
       "      <th>2022-11</th>\n",
       "      <td>10.242098</td>\n",
       "    </tr>\n",
       "    <tr>\n",
       "      <th>2022-12</th>\n",
       "      <td>17.863419</td>\n",
       "    </tr>\n",
       "    <tr>\n",
       "      <th>2023-01</th>\n",
       "      <td>-15.567031</td>\n",
       "    </tr>\n",
       "    <tr>\n",
       "      <th>2023-02</th>\n",
       "      <td>-13.702560</td>\n",
       "    </tr>\n",
       "  </tbody>\n",
       "</table>\n",
       "<p>121 rows × 1 columns</p>\n",
       "</div>"
      ],
      "text/plain": [
       "            resids\n",
       "year              \n",
       "2013-02  -3.232592\n",
       "2013-03   2.024526\n",
       "2013-04  -1.665849\n",
       "2013-05   2.271416\n",
       "2013-06  -5.743521\n",
       "...            ...\n",
       "2022-10  11.535072\n",
       "2022-11  10.242098\n",
       "2022-12  17.863419\n",
       "2023-01 -15.567031\n",
       "2023-02 -13.702560\n",
       "\n",
       "[121 rows x 1 columns]"
      ]
     },
     "execution_count": 24,
     "metadata": {},
     "output_type": "execute_result"
    }
   ],
   "source": [
    "resids"
   ]
  },
  {
   "cell_type": "markdown",
   "id": "543ab24d",
   "metadata": {},
   "source": [
    "### Diagnostics Tests (Autocorrelation and Heteroskedasticity Analysis)"
   ]
  },
  {
   "cell_type": "code",
   "execution_count": 25,
   "id": "0ce53618",
   "metadata": {},
   "outputs": [],
   "source": [
    "var=pd.concat([resids,rexc,excons],axis=1).dropna()"
   ]
  },
  {
   "cell_type": "markdown",
   "id": "84a45004",
   "metadata": {},
   "source": [
    "### Breusch-Godfrey Test"
   ]
  },
  {
   "cell_type": "markdown",
   "id": "1bf314eb",
   "metadata": {},
   "source": [
    "$\\epsilon_{t}=\\alpha_{0}+\\alpha_{j}X_{j}+\\sum p_{i}\\epsilon_{t-i}+u_{t} ;   i,j=1,......,k    $"
   ]
  },
  {
   "cell_type": "code",
   "execution_count": 26,
   "id": "9a48d3e0",
   "metadata": {},
   "outputs": [],
   "source": [
    "BG=ARDL(var['resids'],1,var[['rexc','excons']],{'rexc': [0], 'excons': [1]},missing='raise',hold_back=1).fit()"
   ]
  },
  {
   "cell_type": "code",
   "execution_count": 27,
   "id": "2fc23e54",
   "metadata": {},
   "outputs": [
    {
     "data": {
      "text/html": [
       "<table class=\"simpletable\">\n",
       "<tr>\n",
       "      <td></td>         <th>coef</th>     <th>std err</th>      <th>z</th>      <th>P>|z|</th>  <th>[0.025</th>    <th>0.975]</th>  \n",
       "</tr>\n",
       "<tr>\n",
       "  <th>const</th>     <td>  -28.1086</td> <td>   49.014</td> <td>   -0.573</td> <td> 0.567</td> <td> -125.188</td> <td>   68.971</td>\n",
       "</tr>\n",
       "<tr>\n",
       "  <th>resids.L1</th> <td>   -0.1624</td> <td>    0.262</td> <td>   -0.621</td> <td> 0.536</td> <td>   -0.680</td> <td>    0.356</td>\n",
       "</tr>\n",
       "<tr>\n",
       "  <th>rexc.L0</th>   <td>    0.1374</td> <td>    0.246</td> <td>    0.558</td> <td> 0.578</td> <td>   -0.351</td> <td>    0.625</td>\n",
       "</tr>\n",
       "<tr>\n",
       "  <th>excons.L1</th> <td>    0.1411</td> <td>    0.245</td> <td>    0.575</td> <td> 0.566</td> <td>   -0.345</td> <td>    0.627</td>\n",
       "</tr>\n",
       "</table>"
      ],
      "text/plain": [
       "<class 'statsmodels.iolib.table.SimpleTable'>"
      ]
     },
     "execution_count": 27,
     "metadata": {},
     "output_type": "execute_result"
    }
   ],
   "source": [
    "BG.summary().tables[1]"
   ]
  },
  {
   "cell_type": "code",
   "execution_count": 29,
   "id": "7746f37b",
   "metadata": {},
   "outputs": [
    {
     "name": "stdout",
     "output_type": "stream",
     "text": [
      "<F test: F=0.38534636943379924, p=0.5359735381001975, df_denom=116, df_num=1>\n"
     ]
    }
   ],
   "source": [
    "print(BG.f_test('resids.L1=0'))"
   ]
  },
  {
   "cell_type": "markdown",
   "id": "40c7bcb5",
   "metadata": {},
   "source": [
    "Durbin-h test is unsufficient to analysis of autoregressive models. Because of that, to analysis whether there is autocorrelation, Breusch-Godfrey Test had been used. Breusch-Godfrey Test is executed in three steps. Firstly, the model which testing aspect of autocorrelation is runned and obtained residuals. Then, with residuals are taken as dependent variable  a diffirent regression is runned  and first regression's independent variables and lagged values of residuals  are added as independent variables. Lastly,  the partial F test is executed on coefficent of lagged residiuals. According to results, the null hypothesis that there is not autocorrelation can not be rejected."
   ]
  },
  {
   "cell_type": "markdown",
   "id": "8c22ce46",
   "metadata": {},
   "source": [
    "### ARCH LM Test"
   ]
  },
  {
   "cell_type": "markdown",
   "id": "3364014a",
   "metadata": {},
   "source": [
    "$\\epsilon^2_{t}=\\alpha_{0}+\\sum^q_{i=1} \\alpha_{i}\\epsilon^2_{t-i} +u_{t}$"
   ]
  },
  {
   "cell_type": "code",
   "execution_count": 30,
   "id": "b64123af",
   "metadata": {},
   "outputs": [],
   "source": [
    "resids_sq=modelARDL.resid**2"
   ]
  },
  {
   "cell_type": "code",
   "execution_count": 31,
   "id": "d0287eb3",
   "metadata": {},
   "outputs": [],
   "source": [
    "ARCHlm=AutoReg(resids_sq, lags=1, trend='c').fit()"
   ]
  },
  {
   "cell_type": "code",
   "execution_count": 32,
   "id": "646e30f0",
   "metadata": {},
   "outputs": [
    {
     "data": {
      "text/html": [
       "<table class=\"simpletable\">\n",
       "<tr>\n",
       "    <td></td>       <th>coef</th>     <th>std err</th>      <th>z</th>      <th>P>|z|</th>  <th>[0.025</th>    <th>0.975]</th>  \n",
       "</tr>\n",
       "<tr>\n",
       "  <th>const</th> <td>  190.7186</td> <td>   42.258</td> <td>    4.513</td> <td> 0.000</td> <td>  107.895</td> <td>  273.542</td>\n",
       "</tr>\n",
       "<tr>\n",
       "  <th>y.L1</th>  <td>    0.1172</td> <td>    0.091</td> <td>    1.294</td> <td> 0.196</td> <td>   -0.060</td> <td>    0.295</td>\n",
       "</tr>\n",
       "</table>"
      ],
      "text/plain": [
       "<class 'statsmodels.iolib.table.SimpleTable'>"
      ]
     },
     "execution_count": 32,
     "metadata": {},
     "output_type": "execute_result"
    }
   ],
   "source": [
    "ARCHlm.summary().tables[1]"
   ]
  },
  {
   "cell_type": "code",
   "execution_count": 33,
   "id": "103d63d0",
   "metadata": {},
   "outputs": [
    {
     "name": "stdout",
     "output_type": "stream",
     "text": [
      "<F test: F=1.6747296137323235, p=0.19815329523272995, df_denom=118, df_num=1>\n"
     ]
    }
   ],
   "source": [
    "print(ARCHlm.f_test(\"y.L1 = 0\"))"
   ]
  },
  {
   "cell_type": "markdown",
   "id": "3b0ad37a",
   "metadata": {},
   "source": [
    "To analysis heteroskedasticity, ARCH LM test had been used. The square of residuals refers to variance of regression. If $\\epsilon^2_{t}$ has a relationship with lagged values of itself, the hypothesis of test that there is not heteroskedasticity $\\alpha_{i}$ can be rejected. According to partial F test result, null hypothesis can nat be rejected. So, $\\alpha_{i}=0$."
   ]
  },
  {
   "cell_type": "markdown",
   "id": "3cae763f",
   "metadata": {},
   "source": [
    "### Bound Test"
   ]
  },
  {
   "cell_type": "markdown",
   "id": "abd3a86a",
   "metadata": {},
   "source": [
    "$ \\Delta{y_{t}}=\\alpha + \\sum^m_{i=1}\\beta_{1}\\Delta{y_{t-i}} + \\sum^m_{i=1}\\beta_{2}\\Delta{x_{1t-i}} + \\beta_{3}y_{t-1} + \\beta_{4}x_{t-1} + \\epsilon_{t}$"
   ]
  },
  {
   "cell_type": "code",
   "execution_count": 34,
   "id": "1df61f33",
   "metadata": {},
   "outputs": [],
   "source": [
    "dexcons=excons.diff().fillna(0)\n",
    "dexcons=np.array(dexcons)"
   ]
  },
  {
   "cell_type": "code",
   "execution_count": 35,
   "id": "818ad56f",
   "metadata": {},
   "outputs": [],
   "source": [
    "drexc=np.array(rexc.diff().fillna(0))"
   ]
  },
  {
   "cell_type": "code",
   "execution_count": 36,
   "id": "6a0664fe",
   "metadata": {},
   "outputs": [],
   "source": [
    "rexc=np.array(rexc)"
   ]
  },
  {
   "cell_type": "code",
   "execution_count": 37,
   "id": "3f0ce071",
   "metadata": {},
   "outputs": [],
   "source": [
    "excons=np.array(excons)"
   ]
  },
  {
   "cell_type": "code",
   "execution_count": 38,
   "id": "1effd583",
   "metadata": {},
   "outputs": [],
   "source": [
    "exog=np.column_stack((rexc,drexc,excons))"
   ]
  },
  {
   "cell_type": "code",
   "execution_count": 39,
   "id": "df7a2c75",
   "metadata": {},
   "outputs": [],
   "source": [
    "bound_test=ARDL(dexcons,1,exog,{0:[1],1:[1],2:[1]}).fit()"
   ]
  },
  {
   "cell_type": "code",
   "execution_count": 40,
   "id": "04d57051",
   "metadata": {},
   "outputs": [
    {
     "data": {
      "text/html": [
       "<table class=\"simpletable\">\n",
       "<tr>\n",
       "    <td></td>       <th>coef</th>     <th>std err</th>      <th>z</th>      <th>P>|z|</th>  <th>[0.025</th>    <th>0.975]</th>  \n",
       "</tr>\n",
       "<tr>\n",
       "  <th>const</th> <td>  134.6199</td> <td>   22.502</td> <td>    5.983</td> <td> 0.000</td> <td>   90.052</td> <td>  179.188</td>\n",
       "</tr>\n",
       "<tr>\n",
       "  <th>y.L1</th>  <td>   -0.0275</td> <td>    0.092</td> <td>   -0.299</td> <td> 0.766</td> <td>   -0.210</td> <td>    0.155</td>\n",
       "</tr>\n",
       "<tr>\n",
       "  <th>x0.L1</th> <td>   -0.6467</td> <td>    0.128</td> <td>   -5.043</td> <td> 0.000</td> <td>   -0.901</td> <td>   -0.393</td>\n",
       "</tr>\n",
       "<tr>\n",
       "  <th>x1.L1</th> <td>    0.6858</td> <td>    0.526</td> <td>    1.304</td> <td> 0.195</td> <td>   -0.356</td> <td>    1.727</td>\n",
       "</tr>\n",
       "<tr>\n",
       "  <th>x2.L1</th> <td>   -0.6737</td> <td>    0.108</td> <td>   -6.262</td> <td> 0.000</td> <td>   -0.887</td> <td>   -0.461</td>\n",
       "</tr>\n",
       "</table>"
      ],
      "text/plain": [
       "<class 'statsmodels.iolib.table.SimpleTable'>"
      ]
     },
     "execution_count": 40,
     "metadata": {},
     "output_type": "execute_result"
    }
   ],
   "source": [
    "bound_test.summary().tables[1]"
   ]
  },
  {
   "cell_type": "code",
   "execution_count": 41,
   "id": "a4191dbc",
   "metadata": {
    "scrolled": true
   },
   "outputs": [
    {
     "name": "stdout",
     "output_type": "stream",
     "text": [
      "<F test: F=19.644355763070564, p=4.492105607093129e-08, df_denom=116, df_num=2>\n"
     ]
    }
   ],
   "source": [
    "print(bound_test.f_test(\" x0.L1=x2.L1= 0\"))"
   ]
  },
  {
   "cell_type": "markdown",
   "id": "59fb3b5a",
   "metadata": {},
   "source": [
    "Unlike previous cointegration tests, ARDL developed new method. Thanks to this method, the previous methods requirement that the series be difference stationary has been eliminated. To test the long run relationship, calculated F value compare with F table values which is created by Pesaran, Shın and Smıth. If calculated F value pass the I(1) bound, the null hypothesis can be rejected, otherwise if calculated F values keep the left side of I(0) bound, null hypothesis can not be rejected. The between I(0) and I(1) bounds is indecision zone."
   ]
  },
  {
   "cell_type": "markdown",
   "id": "ccac841f",
   "metadata": {},
   "source": [
    "Critical Value Bounds\t<br>\t\n",
    "\t\t\n",
    "Significance----I0 Bound----I1 Bound <br>\n",
    "\t\t\n",
    "\n",
    "5%----------------3.62----------------4.16 <br>\n",
    "\n",
    "\n"
   ]
  },
  {
   "cell_type": "markdown",
   "id": "5cdda9b5",
   "metadata": {},
   "source": [
    "Calculated F values is 19.64 which is bigger than I(1) bound. <br>\n",
    "$F_{calculated}(19,64) > F_{table}(4,16)$ <br> $H_{0}=There is no long run relationships.$ ----> can be rejected."
   ]
  },
  {
   "cell_type": "markdown",
   "id": "1ea39839",
   "metadata": {},
   "source": [
    "### Cointegrating Form"
   ]
  },
  {
   "cell_type": "markdown",
   "id": "f8bd13e7",
   "metadata": {},
   "source": [
    "$\\Delta{y_{t}}=\\alpha +  \\sum^m_{i=1}\\beta_{2}\\Delta{x_{t}}+ECT+e_{t-1}$"
   ]
  },
  {
   "cell_type": "markdown",
   "id": "b466558e",
   "metadata": {},
   "source": [
    "##### Error Correction Term"
   ]
  },
  {
   "cell_type": "markdown",
   "id": "2e7ceb39",
   "metadata": {},
   "source": [
    "$Y_{t}=X_{t}\\beta+\\epsilon_{t}$ <br><br>\n",
    "$Y_{t}-X_{t}\\beta=\\epsilon_{t}$ <br><br>\n",
    "$Error Correction Term ; \\epsilon_{t-1}$\n"
   ]
  },
  {
   "cell_type": "markdown",
   "id": "aa5ca7ff",
   "metadata": {},
   "source": [
    "Error correction term is residual of long run regression and used in cointegration analysis for see whether short run shock will return to balance."
   ]
  },
  {
   "cell_type": "code",
   "execution_count": 42,
   "id": "d34dbfc6",
   "metadata": {},
   "outputs": [],
   "source": [
    "ect=np.nan_to_num(np.array(resids.shift().fillna(0)))\n",
    "drexc_=np.delete(drexc,0)\n",
    "dexcons_=np.delete(dexcons,0)"
   ]
  },
  {
   "cell_type": "code",
   "execution_count": 43,
   "id": "59e04cd9",
   "metadata": {},
   "outputs": [],
   "source": [
    "coint_exog=np.column_stack((drexc_,ect))"
   ]
  },
  {
   "cell_type": "code",
   "execution_count": 44,
   "id": "840e7b59",
   "metadata": {},
   "outputs": [],
   "source": [
    "coint=ARDL(dexcons_,0,coint_exog,{0:[0], 1:[0]},trend='n').fit()"
   ]
  },
  {
   "cell_type": "code",
   "execution_count": 45,
   "id": "fe3b6672",
   "metadata": {},
   "outputs": [
    {
     "data": {
      "text/html": [
       "<table class=\"simpletable\">\n",
       "<tr>\n",
       "    <td></td>       <th>coef</th>     <th>std err</th>      <th>z</th>      <th>P>|z|</th>  <th>[0.025</th>    <th>0.975]</th>  \n",
       "</tr>\n",
       "<tr>\n",
       "  <th>x0.L0</th> <td>   -0.2449</td> <td>    0.517</td> <td>   -0.473</td> <td> 0.637</td> <td>   -1.269</td> <td>    0.780</td>\n",
       "</tr>\n",
       "<tr>\n",
       "  <th>x1.L0</th> <td>   -0.6936</td> <td>    0.094</td> <td>   -7.403</td> <td> 0.000</td> <td>   -0.879</td> <td>   -0.508</td>\n",
       "</tr>\n",
       "</table>"
      ],
      "text/plain": [
       "<class 'statsmodels.iolib.table.SimpleTable'>"
      ]
     },
     "execution_count": 45,
     "metadata": {},
     "output_type": "execute_result"
    }
   ],
   "source": [
    "coint.summary().tables[1]"
   ]
  },
  {
   "cell_type": "markdown",
   "id": "9e716381",
   "metadata": {},
   "source": [
    "x0.L0 is difference of the export of consumption goods index. <br>\n",
    "x1.L0 is level of error correction term. <br>\n",
    "<br>\n",
    "Conitegrating form of model is represent to short run regression. If interpret the coefficient, it can be said that real effective exchange index is ineffective on export of consumption goods index in short run as statisticaly. Aspect of error correction term, it can be seen that coefficient has negative value and is significant as statisticaly. This show that the short run shocks will be disappeared by long run impact."
   ]
  },
  {
   "cell_type": "markdown",
   "id": "1671acd0",
   "metadata": {},
   "source": [
    "### Normalized Long Run Form"
   ]
  },
  {
   "cell_type": "code",
   "execution_count": 46,
   "id": "c8206155",
   "metadata": {},
   "outputs": [],
   "source": [
    "constant_=bound_test.params[0]\n",
    "rexc_1=bound_test.params[2]\n",
    "excons_1=bound_test.params[4]"
   ]
  },
  {
   "cell_type": "code",
   "execution_count": 47,
   "id": "068c7c21",
   "metadata": {},
   "outputs": [],
   "source": [
    "normal_rexc=rexc_1/excons_1\n",
    "normal_cons=constant_/excons_1"
   ]
  },
  {
   "cell_type": "code",
   "execution_count": 48,
   "id": "f6db8187",
   "metadata": {},
   "outputs": [
    {
     "data": {
      "text/plain": [
       "0.9598806618928415"
      ]
     },
     "execution_count": 48,
     "metadata": {},
     "output_type": "execute_result"
    }
   ],
   "source": [
    "normal_rexc"
   ]
  },
  {
   "cell_type": "code",
   "execution_count": 49,
   "id": "47780972",
   "metadata": {},
   "outputs": [
    {
     "data": {
      "text/plain": [
       "-199.81713675379766"
      ]
     },
     "execution_count": 49,
     "metadata": {},
     "output_type": "execute_result"
    }
   ],
   "source": [
    "normal_cons"
   ]
  },
  {
   "cell_type": "markdown",
   "id": "0f8314e7",
   "metadata": {},
   "source": [
    "$ y_{t}=199,81 - 0,9598X_{t} + \\epsilon_{t} $"
   ]
  },
  {
   "cell_type": "markdown",
   "id": "b706755c",
   "metadata": {},
   "source": [
    "Lastly, the long run form of model is presented with normalized coefficients. According to equation in long run period, the relationship between real excange rate and export of consumption goods index have almost unit flexible connection. It show that the changes on real exchange rate has important impact on export of consumption goods index."
   ]
  },
  {
   "cell_type": "code",
   "execution_count": null,
   "id": "cdbe5e67",
   "metadata": {},
   "outputs": [],
   "source": []
  }
 ],
 "metadata": {
  "kernelspec": {
   "display_name": "Python 3 (ipykernel)",
   "language": "python",
   "name": "python3"
  },
  "language_info": {
   "codemirror_mode": {
    "name": "ipython",
    "version": 3
   },
   "file_extension": ".py",
   "mimetype": "text/x-python",
   "name": "python",
   "nbconvert_exporter": "python",
   "pygments_lexer": "ipython3",
   "version": "3.9.13"
  }
 },
 "nbformat": 4,
 "nbformat_minor": 5
}
