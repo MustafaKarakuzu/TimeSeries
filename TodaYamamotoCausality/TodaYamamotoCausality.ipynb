{
 "cells": [
  {
   "cell_type": "markdown",
   "id": "48d70e82",
   "metadata": {},
   "source": [
    "# Toda Yamamoto Causality Test"
   ]
  },
  {
   "cell_type": "code",
   "execution_count": 40,
   "id": "a3380287",
   "metadata": {},
   "outputs": [],
   "source": [
    "import numpy as np\n",
    "import pandas as pd\n",
    "import matplotlib.pyplot as plt\n",
    "import statsmodels.api as sm\n",
    "from statsmodels.tsa.stattools import adfuller\n",
    "from statsmodels.tsa.api import VAR\n",
    "from statsmodels.tsa.api import ARDL\n",
    "from statsmodels.tsa.ar_model import AutoReg\n",
    "from statsmodels.tsa.stattools import zivot_andrews as zt\n",
    "from statsmodels.tsa import tsatools as stt"
   ]
  },
  {
   "cell_type": "code",
   "execution_count": 41,
   "id": "4745033c",
   "metadata": {},
   "outputs": [],
   "source": [
    "data0=pd.read_excel('gini-inf.xls')"
   ]
  },
  {
   "cell_type": "code",
   "execution_count": 42,
   "id": "1cc105e7",
   "metadata": {},
   "outputs": [
    {
     "data": {
      "text/html": [
       "<div>\n",
       "<style scoped>\n",
       "    .dataframe tbody tr th:only-of-type {\n",
       "        vertical-align: middle;\n",
       "    }\n",
       "\n",
       "    .dataframe tbody tr th {\n",
       "        vertical-align: top;\n",
       "    }\n",
       "\n",
       "    .dataframe thead th {\n",
       "        text-align: right;\n",
       "    }\n",
       "</style>\n",
       "<table border=\"1\" class=\"dataframe\">\n",
       "  <thead>\n",
       "    <tr style=\"text-align: right;\">\n",
       "      <th></th>\n",
       "      <th>years</th>\n",
       "      <th>gini</th>\n",
       "      <th>inf</th>\n",
       "    </tr>\n",
       "  </thead>\n",
       "  <tbody>\n",
       "    <tr>\n",
       "      <th>0</th>\n",
       "      <td>2006</td>\n",
       "      <td>0.403</td>\n",
       "      <td>9.586667</td>\n",
       "    </tr>\n",
       "    <tr>\n",
       "      <th>1</th>\n",
       "      <td>2007</td>\n",
       "      <td>0.387</td>\n",
       "      <td>8.783333</td>\n",
       "    </tr>\n",
       "    <tr>\n",
       "      <th>2</th>\n",
       "      <td>2008</td>\n",
       "      <td>0.386</td>\n",
       "      <td>10.433333</td>\n",
       "    </tr>\n",
       "    <tr>\n",
       "      <th>3</th>\n",
       "      <td>2009</td>\n",
       "      <td>0.394</td>\n",
       "      <td>6.279167</td>\n",
       "    </tr>\n",
       "    <tr>\n",
       "      <th>4</th>\n",
       "      <td>2010</td>\n",
       "      <td>0.380</td>\n",
       "      <td>8.583333</td>\n",
       "    </tr>\n",
       "    <tr>\n",
       "      <th>5</th>\n",
       "      <td>2011</td>\n",
       "      <td>0.383</td>\n",
       "      <td>6.451667</td>\n",
       "    </tr>\n",
       "    <tr>\n",
       "      <th>6</th>\n",
       "      <td>2012</td>\n",
       "      <td>0.382</td>\n",
       "      <td>8.935833</td>\n",
       "    </tr>\n",
       "    <tr>\n",
       "      <th>7</th>\n",
       "      <td>2013</td>\n",
       "      <td>0.382</td>\n",
       "      <td>7.494167</td>\n",
       "    </tr>\n",
       "    <tr>\n",
       "      <th>8</th>\n",
       "      <td>2014</td>\n",
       "      <td>0.379</td>\n",
       "      <td>8.852500</td>\n",
       "    </tr>\n",
       "    <tr>\n",
       "      <th>9</th>\n",
       "      <td>2015</td>\n",
       "      <td>0.386</td>\n",
       "      <td>7.665833</td>\n",
       "    </tr>\n",
       "    <tr>\n",
       "      <th>10</th>\n",
       "      <td>2016</td>\n",
       "      <td>0.396</td>\n",
       "      <td>7.785000</td>\n",
       "    </tr>\n",
       "    <tr>\n",
       "      <th>11</th>\n",
       "      <td>2017</td>\n",
       "      <td>0.400</td>\n",
       "      <td>11.133333</td>\n",
       "    </tr>\n",
       "    <tr>\n",
       "      <th>12</th>\n",
       "      <td>2018</td>\n",
       "      <td>0.403</td>\n",
       "      <td>16.221667</td>\n",
       "    </tr>\n",
       "    <tr>\n",
       "      <th>13</th>\n",
       "      <td>2019</td>\n",
       "      <td>0.387</td>\n",
       "      <td>15.460833</td>\n",
       "    </tr>\n",
       "    <tr>\n",
       "      <th>14</th>\n",
       "      <td>2020</td>\n",
       "      <td>0.402</td>\n",
       "      <td>12.260833</td>\n",
       "    </tr>\n",
       "    <tr>\n",
       "      <th>15</th>\n",
       "      <td>2021</td>\n",
       "      <td>0.391</td>\n",
       "      <td>19.424167</td>\n",
       "    </tr>\n",
       "  </tbody>\n",
       "</table>\n",
       "</div>"
      ],
      "text/plain": [
       "    years   gini        inf\n",
       "0    2006  0.403   9.586667\n",
       "1    2007  0.387   8.783333\n",
       "2    2008  0.386  10.433333\n",
       "3    2009  0.394   6.279167\n",
       "4    2010  0.380   8.583333\n",
       "5    2011  0.383   6.451667\n",
       "6    2012  0.382   8.935833\n",
       "7    2013  0.382   7.494167\n",
       "8    2014  0.379   8.852500\n",
       "9    2015  0.386   7.665833\n",
       "10   2016  0.396   7.785000\n",
       "11   2017  0.400  11.133333\n",
       "12   2018  0.403  16.221667\n",
       "13   2019  0.387  15.460833\n",
       "14   2020  0.402  12.260833\n",
       "15   2021  0.391  19.424167"
      ]
     },
     "execution_count": 42,
     "metadata": {},
     "output_type": "execute_result"
    }
   ],
   "source": [
    "data0"
   ]
  },
  {
   "cell_type": "code",
   "execution_count": 47,
   "id": "83c9ff50",
   "metadata": {},
   "outputs": [],
   "source": [
    "dy=data0['gini'].diff().fillna(0)\n",
    "dx=data0['inf'].diff().fillna(0)"
   ]
  },
  {
   "cell_type": "code",
   "execution_count": 48,
   "id": "7f941320",
   "metadata": {},
   "outputs": [],
   "source": [
    "y=np.array(data0.iloc[:,1:2])\n",
    "x=np.array(data0.iloc[:,-1])\n",
    "dy=np.array(dy)\n",
    "dx=np.array(dx)"
   ]
  },
  {
   "cell_type": "markdown",
   "id": "095e23f8",
   "metadata": {},
   "source": [
    "## $y~;Gini Coefficient~~~dy~;First Difference$ <br>\n",
    "## $x~;Consumer Inflation~~~dx;First Difference$"
   ]
  },
  {
   "cell_type": "code",
   "execution_count": 98,
   "id": "f72c3c42",
   "metadata": {},
   "outputs": [
    {
     "data": {
      "image/png": "[encoded data removed]",
      "text/plain": [
       "<Figure size 1500x600 with 4 Axes>"
      ]
     },
     "metadata": {},
     "output_type": "display_data"
    }
   ],
   "source": [
    "fig, axs = plt.subplots(1,2, figsize=(15,6))\n",
    "fig.suptitle('Graphs Of Data')\n",
    "\n",
    "axs[0].set_title('Graph of Level')   \n",
    "axs[0].plot(y, 'g-')\n",
    "axs[0].set_ylabel('gini', color='g')\n",
    "\n",
    "axs[0] = axs[0].twinx()\n",
    "axs[0].plot(x, 'y-')\n",
    "axs[0].set_ylabel('inflation', color='y')\n",
    "\n",
    "axs[1].set_title('Graph of Differences')   \n",
    "axs[1].plot(dx, 'g-')\n",
    "axs[1].set_ylabel('gini', color='g')\n",
    "\n",
    "axs[1] = axs[1].twinx()\n",
    "axs[1].plot(dy, 'y-')\n",
    "axs[1].set_ylabel('inflation', color='y')\n",
    "\n",
    "plt.show()"
   ]
  },
  {
   "cell_type": "markdown",
   "id": "394e61a3",
   "metadata": {},
   "source": [
    "## Unit Root Analysis"
   ]
  },
  {
   "cell_type": "code",
   "execution_count": 50,
   "id": "273b8b35",
   "metadata": {},
   "outputs": [
    {
     "data": {
      "text/plain": [
       "(1.000763228005254,\n",
       " 1.0,\n",
       " 3,\n",
       " 12,\n",
       " {'1%': -4.988247662037037, '5%': -3.865364768518518, '10%': -3.382725},\n",
       " 39.38713969731792)"
      ]
     },
     "execution_count": 50,
     "metadata": {},
     "output_type": "execute_result"
    }
   ],
   "source": [
    "adfuller(x,regression='ct')"
   ]
  },
  {
   "cell_type": "code",
   "execution_count": 51,
   "id": "f0d3ada4",
   "metadata": {},
   "outputs": [
    {
     "data": {
      "text/plain": [
       "(-5.51136968931478,\n",
       " 2.1882354285488762e-05,\n",
       " 2,\n",
       " 13,\n",
       " {'1%': -4.8844381383705056,\n",
       "  '5%': -3.8223332407828856,\n",
       "  '10%': -3.3593537778789258},\n",
       " 44.35117720921957)"
      ]
     },
     "execution_count": 51,
     "metadata": {},
     "output_type": "execute_result"
    }
   ],
   "source": [
    "adfuller(dx,regression='ct')"
   ]
  },
  {
   "cell_type": "code",
   "execution_count": 52,
   "id": "28c8786c",
   "metadata": {},
   "outputs": [
    {
     "data": {
      "text/plain": [
       "(-2.8744274871945756,\n",
       " 0.04840357127221193,\n",
       " 0,\n",
       " 15,\n",
       " {'1%': -3.9644434814814815,\n",
       "  '5%': -3.0849081481481484,\n",
       "  '10%': -2.6818144444444445},\n",
       " -58.33925329911925)"
      ]
     },
     "execution_count": 52,
     "metadata": {},
     "output_type": "execute_result"
    }
   ],
   "source": [
    "adfuller(y,regression='c')"
   ]
  },
  {
   "cell_type": "code",
   "execution_count": 53,
   "id": "35a3916c",
   "metadata": {},
   "outputs": [
    {
     "data": {
      "text/plain": [
       "(-5.354399799714696,\n",
       " 4.220068503890554e-06,\n",
       " 0,\n",
       " 15,\n",
       " {'1%': -3.9644434814814815,\n",
       "  '5%': -3.0849081481481484,\n",
       "  '10%': -2.6818144444444445},\n",
       " -57.691094646448946)"
      ]
     },
     "execution_count": 53,
     "metadata": {},
     "output_type": "execute_result"
    }
   ],
   "source": [
    "adfuller(dy,regression='c')"
   ]
  },
  {
   "cell_type": "code",
   "execution_count": 54,
   "id": "fd1b1aad",
   "metadata": {},
   "outputs": [
    {
     "data": {
      "text/plain": [
       "(-5.3700821105489895,\n",
       " 0.021066237044970407,\n",
       " {'1%': -5.57556, '5%': -5.07332, '10%': -4.82668},\n",
       " 0,\n",
       " 9)"
      ]
     },
     "execution_count": 54,
     "metadata": {},
     "output_type": "execute_result"
    }
   ],
   "source": [
    "zt(y,regression='ct')"
   ]
  },
  {
   "cell_type": "code",
   "execution_count": 55,
   "id": "b2b8c33e",
   "metadata": {},
   "outputs": [
    {
     "data": {
      "text/plain": [
       "years    2015.000000\n",
       "gini        0.386000\n",
       "inf         7.665833\n",
       "Name: 9, dtype: float64"
      ]
     },
     "execution_count": 55,
     "metadata": {},
     "output_type": "execute_result"
    }
   ],
   "source": [
    "data0.iloc[9,:]"
   ]
  },
  {
   "cell_type": "markdown",
   "id": "6c3271d7",
   "metadata": {},
   "source": [
    "### $x=I(1)~~;~~~y=I(0)~with~structural~break~,y=I(1)~~with~ADF$ <br>\n",
    "## $d_{max}=1$"
   ]
  },
  {
   "cell_type": "markdown",
   "id": "68d199f4",
   "metadata": {},
   "source": [
    "### Data For VAR"
   ]
  },
  {
   "cell_type": "code",
   "execution_count": 99,
   "id": "f66bed1e",
   "metadata": {},
   "outputs": [],
   "source": [
    "vardata=np.column_stack((y,x))"
   ]
  },
  {
   "cell_type": "code",
   "execution_count": 100,
   "id": "fdbc0d27",
   "metadata": {},
   "outputs": [
    {
     "data": {
      "text/plain": [
       "(16, 2)"
      ]
     },
     "execution_count": 100,
     "metadata": {},
     "output_type": "execute_result"
    }
   ],
   "source": [
    "vardata.shape"
   ]
  },
  {
   "cell_type": "markdown",
   "id": "f6e38b91",
   "metadata": {},
   "source": [
    "## Optimal Lag Point"
   ]
  },
  {
   "cell_type": "code",
   "execution_count": 101,
   "id": "e220def1",
   "metadata": {},
   "outputs": [],
   "source": [
    "def lag_order(x,maxlag):\n",
    "    llf=[]\n",
    "    params=[]\n",
    "    obs=[]\n",
    "    for i in range(0,maxlag+1):\n",
    "        mod=VAR(x)\n",
    "        res=mod.fit(i)\n",
    "        llf.append(res.llf)\n",
    "        params.append(res.df_model)\n",
    "        obs.append(len(x)*2-i)\n",
    "    params=pd.DataFrame(params)\n",
    "    obs=pd.DataFrame(obs)\n",
    "    lobs=np.log(obs)\n",
    "    llf=pd.DataFrame(llf)\n",
    "    AIC=pd.DataFrame((-2*llf+2*(params*2-1))/obs)\n",
    "    BIC=pd.DataFrame((-2*llf+(params*2-1)*lobs)/obs)\n",
    "    outputs=pd.concat([AIC,BIC],axis=1)\n",
    "    print(outputs)"
   ]
  },
  {
   "cell_type": "code",
   "execution_count": 102,
   "id": "2dd7a650",
   "metadata": {},
   "outputs": [
    {
     "name": "stdout",
     "output_type": "stream",
     "text": [
      "          0         0\n",
      "0 -1.122102 -1.076298\n",
      "1 -1.399391 -1.168103\n",
      "2 -1.305784 -0.885424\n",
      "3 -0.951737 -0.338811\n"
     ]
    }
   ],
   "source": [
    "lag_order(vardata,3)"
   ]
  },
  {
   "cell_type": "markdown",
   "id": "79d4cf26",
   "metadata": {},
   "source": [
    "## $opt.lag=(p+d_{max})$"
   ]
  },
  {
   "cell_type": "markdown",
   "id": "fa99dff2",
   "metadata": {},
   "source": [
    "## Estimate VAR"
   ]
  },
  {
   "cell_type": "code",
   "execution_count": 60,
   "id": "b945e6f1",
   "metadata": {},
   "outputs": [],
   "source": [
    "model=VAR(vardata)"
   ]
  },
  {
   "cell_type": "code",
   "execution_count": 61,
   "id": "2c483f0c",
   "metadata": {},
   "outputs": [],
   "source": [
    "result=model.fit(2)"
   ]
  },
  {
   "cell_type": "code",
   "execution_count": 62,
   "id": "f583a2d6",
   "metadata": {},
   "outputs": [
    {
     "data": {
      "text/plain": [
       "  Summary of Regression Results   \n",
       "==================================\n",
       "Model:                         VAR\n",
       "Method:                        OLS\n",
       "Date:           Sun, 21, May, 2023\n",
       "Time:                     09:48:20\n",
       "--------------------------------------------------------------------\n",
       "No. of Equations:         2.00000    BIC:                   -7.87454\n",
       "Nobs:                     14.0000    HQIC:                  -8.37326\n",
       "Log likelihood:           28.5868    FPE:                0.000257331\n",
       "AIC:                     -8.33100    Det(Omega_mle):     0.000139714\n",
       "--------------------------------------------------------------------\n",
       "Results for equation y1\n",
       "========================================================================\n",
       "           coefficient       std. error           t-stat            prob\n",
       "------------------------------------------------------------------------\n",
       "const         0.173481         0.120319            1.442           0.149\n",
       "L1.y1         0.264880         0.337772            0.784           0.433\n",
       "L1.y2         0.000567         0.000825            0.688           0.492\n",
       "L2.y1         0.020707         0.387177            0.053           0.957\n",
       "L2.y2        -0.000074         0.000675           -0.110           0.912\n",
       "========================================================================\n",
       "\n",
       "Results for equation y2\n",
       "========================================================================\n",
       "           coefficient       std. error           t-stat            prob\n",
       "------------------------------------------------------------------------\n",
       "const      -118.412225        46.233471           -2.561           0.010\n",
       "L1.y1       508.523872       129.791236            3.918           0.000\n",
       "L1.y2         0.212834         0.316859            0.672           0.502\n",
       "L2.y1       -10.803518       148.775488           -0.073           0.942\n",
       "L2.y2         0.288277         0.259538            1.111           0.267\n",
       "========================================================================\n",
       "\n",
       "Correlation matrix of residuals\n",
       "            y1        y2\n",
       "y1    1.000000 -0.008558\n",
       "y2   -0.008558  1.000000\n",
       "\n"
      ]
     },
     "execution_count": 62,
     "metadata": {},
     "output_type": "execute_result"
    }
   ],
   "source": [
    "result.summary()"
   ]
  },
  {
   "cell_type": "markdown",
   "id": "d92a00a1",
   "metadata": {},
   "source": [
    "#### Normality Test"
   ]
  },
  {
   "cell_type": "code",
   "execution_count": 63,
   "id": "5b927236",
   "metadata": {},
   "outputs": [
    {
     "name": "stdout",
     "output_type": "stream",
     "text": [
      "<statsmodels.tsa.vector_ar.hypothesis_test_results.NormalityTestResults object. H_0: data generated by normally-distributed process: fail to reject at 5% significance level. Test statistic: 1.652, critical value: 9.488>, p-value: 0.799>\n"
     ]
    }
   ],
   "source": [
    "print(result.test_normality(signif=0.05))"
   ]
  },
  {
   "cell_type": "markdown",
   "id": "0614964b",
   "metadata": {},
   "source": [
    "#### Portmanteau Test For Autocorrelation"
   ]
  },
  {
   "cell_type": "code",
   "execution_count": 64,
   "id": "f32dd68a",
   "metadata": {},
   "outputs": [
    {
     "name": "stdout",
     "output_type": "stream",
     "text": [
      "<statsmodels.tsa.vector_ar.hypothesis_test_results.WhitenessTestResults object. H_0: residual autocorrelation up to lag 3 is zero: fail to reject at 5% significance level. Test statistic: 5.692, critical value: 9.488>, p-value: 0.223>\n"
     ]
    }
   ],
   "source": [
    "print(result.test_whiteness(nlags=3, signif=0.05, adjusted=False))"
   ]
  },
  {
   "cell_type": "markdown",
   "id": "877e7caf",
   "metadata": {},
   "source": [
    "#### VAR Inverse Roots"
   ]
  },
  {
   "cell_type": "code",
   "execution_count": 65,
   "id": "c4930cdb",
   "metadata": {},
   "outputs": [
    {
     "data": {
      "text/plain": [
       "array([0.035994  , 0.2439834 , 0.64386607, 0.91359062])"
      ]
     },
     "execution_count": 65,
     "metadata": {},
     "output_type": "execute_result"
    }
   ],
   "source": [
    "np.abs(1/result.roots)"
   ]
  },
  {
   "cell_type": "markdown",
   "id": "a324ece6",
   "metadata": {},
   "source": [
    "### Causality Test"
   ]
  },
  {
   "cell_type": "markdown",
   "id": "aca014a5",
   "metadata": {},
   "source": [
    "## $ y_{t}=\\theta_{10}+\\sum_{i=1}^{m}{\\beta_{1i}y_{t-i}}+\\sum_{i=m+1}^{m+{d_{max}}}{\\beta_{2i}y_{t-i}}+\\sum_{i=1}^{m}{\\omega_{1i}x_{t-i}}+\\sum_{i=m+1}^{m+{d_{max}}}{\\omega_{2i}x_{t-i}}+\\epsilon_{1t} $"
   ]
  },
  {
   "cell_type": "markdown",
   "id": "6ad63fb4",
   "metadata": {},
   "source": [
    "## $ x_{t}=\\theta_{20}+\\sum_{i=1}^{m}{\\delta_{1i}x_{t-i}}+\\sum_{i=m+1}^{m+{d_{max}}}{\\delta_{2i}x_{t-i}}+\\sum_{i=1}^{m}{\\alpha_{1i}y_{t-i}}+\\sum_{i=m+1}^{m+{d_{max}}}{\\alpha_{2i}y_{t-i}}+\\epsilon_{2t} $"
   ]
  },
  {
   "cell_type": "code",
   "execution_count": null,
   "id": "7db39fc0",
   "metadata": {},
   "outputs": [],
   "source": []
  },
  {
   "cell_type": "code",
   "execution_count": 68,
   "id": "acce5a19",
   "metadata": {},
   "outputs": [
    {
     "data": {
      "text/plain": [
       "(16, 1)"
      ]
     },
     "execution_count": 68,
     "metadata": {},
     "output_type": "execute_result"
    }
   ],
   "source": [
    "y.shape"
   ]
  },
  {
   "cell_type": "code",
   "execution_count": 69,
   "id": "c0c946dd",
   "metadata": {},
   "outputs": [],
   "source": [
    "x=x.reshape(16,1)"
   ]
  },
  {
   "cell_type": "markdown",
   "id": "b53eede9",
   "metadata": {},
   "source": [
    "## $x~~\\to~~y$ <br>\n",
    "## $H_{0}:\\omega_{1i}=\\omega_{2i}=0;~~Consumer~inflation~does~not~ cause~gini~coefficient$<br>"
   ]
  },
  {
   "cell_type": "code",
   "execution_count": 70,
   "id": "4396ac2b",
   "metadata": {},
   "outputs": [],
   "source": [
    "model1=ARDL(y,2,x,[1,2]).fit()"
   ]
  },
  {
   "cell_type": "code",
   "execution_count": 71,
   "id": "5bd890d1",
   "metadata": {},
   "outputs": [
    {
     "name": "stdout",
     "output_type": "stream",
     "text": [
      "==============================================================================\n",
      "                 coef    std err          z      P>|z|      [0.025      0.975]\n",
      "------------------------------------------------------------------------------\n",
      "const          0.1735      0.120      1.442      0.183      -0.099       0.446\n",
      "y.L1           0.2649      0.338      0.784      0.453      -0.499       1.029\n",
      "y.L2           0.0207      0.387      0.053      0.959      -0.855       0.897\n",
      "x0.L1          0.0006      0.001      0.688      0.509      -0.001       0.002\n",
      "x0.L2      -7.438e-05      0.001     -0.110      0.915      -0.002       0.001\n",
      "==============================================================================\n",
      "<F test: F=0.264437272708174, p=0.7733997923939043, df_denom=9, df_num=2>\n"
     ]
    }
   ],
   "source": [
    "print(model1.summary().tables[1])\n",
    "print(model1.f_test(\"x0.L1=x0.L2=0\"))"
   ]
  },
  {
   "cell_type": "markdown",
   "id": "d7c02624",
   "metadata": {},
   "source": [
    "## $y~~\\to~~x$ <br>\n",
    "## $H_{0}:\\alpha_{1i}=\\alpha_{2i}=0;~~~~Gini~coefficient~does~not~ cause~consumer~inflation~$ <br>"
   ]
  },
  {
   "cell_type": "code",
   "execution_count": 72,
   "id": "4427629a",
   "metadata": {},
   "outputs": [],
   "source": [
    "model2=ARDL(x,2,y,[1,2]).fit()"
   ]
  },
  {
   "cell_type": "code",
   "execution_count": 73,
   "id": "b52c29b9",
   "metadata": {},
   "outputs": [
    {
     "name": "stdout",
     "output_type": "stream",
     "text": [
      "==============================================================================\n",
      "                 coef    std err          z      P>|z|      [0.025      0.975]\n",
      "------------------------------------------------------------------------------\n",
      "const       -118.4122     46.233     -2.561      0.031    -223.000     -13.825\n",
      "y.L1           0.2128      0.317      0.672      0.519      -0.504       0.930\n",
      "y.L2           0.2883      0.260      1.111      0.295      -0.299       0.875\n",
      "x0.L1        508.5239    129.791      3.918      0.004     214.916     802.132\n",
      "x0.L2        -10.8035    148.775     -0.073      0.944    -347.357     325.750\n",
      "==============================================================================\n",
      "<F test: F=7.679137040789865, p=0.011328749778070848, df_denom=9, df_num=2>\n"
     ]
    }
   ],
   "source": [
    "print(model2.summary().tables[1])\n",
    "print(model2.f_test(\"x0.L1=x0.L2=0\"))"
   ]
  },
  {
   "cell_type": "markdown",
   "id": "eecf556e",
   "metadata": {},
   "source": [
    "## Conclusion"
   ]
  },
  {
   "cell_type": "markdown",
   "id": "bec4e6b7",
   "metadata": {},
   "source": [
    "Acording to Toda-Yamamoto Causality Test, when consumer inflation does not granger cause gini coefficient, gini coefficient does granger cause consumer inflation.From this point, it can be said that the factors that cause to injustice at distribution of wealth are cause of consumer inflation. The cause of injustice of wealth distribution should research for reach the more concrete facts. Maybe, incresed money supply, deformations at justice system,  high producter inflation are cause of distruptions at wealth distribution. But, this can be subject of an other research."
   ]
  },
  {
   "cell_type": "markdown",
   "id": "f4b72c4c",
   "metadata": {},
   "source": [
    "# $Y~\\to~X$ <br>\n",
    "# $X~\\not\\to~Y$"
   ]
  }
 ],
 "metadata": {
  "kernelspec": {
   "display_name": "Python 3 (ipykernel)",
   "language": "python",
   "name": "python3"
  },
  "language_info": {
   "codemirror_mode": {
    "name": "ipython",
    "version": 3
   },
   "file_extension": ".py",
   "mimetype": "text/x-python",
   "name": "python",
   "nbconvert_exporter": "python",
   "pygments_lexer": "ipython3",
   "version": "3.9.13"
  }
 },
 "nbformat": 4,
 "nbformat_minor": 5
}
