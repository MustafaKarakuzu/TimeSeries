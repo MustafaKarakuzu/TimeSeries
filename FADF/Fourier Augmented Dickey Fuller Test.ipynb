{
 "cells": [
  {
   "cell_type": "markdown",
   "metadata": {},
   "source": [
    "# FOURIER AUGMENTED DICKEY FULLER TEST"
   ]
  },
  {
   "cell_type": "code",
   "execution_count": 12,
   "metadata": {
    "id": "b3puAvnETjhn"
   },
   "outputs": [],
   "source": [
    "import pandas as pd\n",
    "import numpy as np\n",
    "import matplotlib.pyplot as plt\n",
    "\n",
    "\n",
    "import statsmodels.api as sm\n",
    "from statsmodels.graphics.tsaplots import plot_pacf\n",
    "from statsmodels.tsa.stattools import pacf\n",
    "import statsmodels.graphics.tsaplots as sgt\n",
    "\n",
    "\n",
    "import warnings\n",
    "warnings.filterwarnings('ignore')"
   ]
  },
  {
   "cell_type": "code",
   "execution_count": 13,
   "metadata": {
    "id": "VxCiy9MlTs_V"
   },
   "outputs": [],
   "source": [
    "data = pd.read_excel(\"Data-2.xlsx\")\n",
    "\n",
    "critical_values_c = pd.read_excel(\"critical_values_c.xlsx\")\n",
    "critical_values_c_F = pd.read_excel(\"critical_values_c_F.xlsx\")\n",
    "\n",
    "critical_values_t_c = pd.read_excel(\"critical_values_t_c.xlsx\")\n",
    "critical_values_t_c_F = pd.read_excel(\"critical_values_t_c_F.xlsx\")"
   ]
  },
  {
   "cell_type": "markdown",
   "metadata": {
    "id": "LFarqrAZZOIc"
   },
   "source": [
    "### DEFINING THE VARIABLE ON WHICH THE UNIT ROOT TEST WILL BE APPLIED"
   ]
  },
  {
   "cell_type": "code",
   "execution_count": 15,
   "metadata": {
    "id": "ulbTCVIWUvA0"
   },
   "outputs": [],
   "source": [
    "dependent_variable = \"CH\""
   ]
  },
  {
   "cell_type": "code",
   "execution_count": 16,
   "metadata": {
    "id": "65gSrfLlvQTD",
    "jupyter": {
     "source_hidden": true
    }
   },
   "outputs": [],
   "source": [
    "def Fourier_ADF(test_level, autocorrelation, to_make_augmented, stocastics, k, add_Fourier):\n",
    "  if add_Fourier == True:\n",
    "    if test_level == \"Level\":\n",
    "      y = data[dependent_variable]\n",
    "\n",
    "      y_dif = y.diff().dropna()\n",
    "      y_dif.name = dependent_variable + \"_dif\"\n",
    "      y_dif = y_dif.reset_index(drop=True)\n",
    "\n",
    "      y_lagged = sm.tsa.add_lag(y, lags=1)\n",
    "      y_lagged = pd.Series((y_lagged[:,1:].reshape(len(y_lagged,))), name = dependent_variable + \"(t-1)\")\n",
    "\n",
    "      constant = pd.Series(np.ones(len(y_dif)), name=\"constant\")\n",
    "      trend = pd.Series(np.arange(1,len(y_dif)+1), name=\"trend\")\n",
    "\n",
    "      sin_series = pd.Series(np.sin(2 * np.pi * k * trend / len(y_dif)), name = \"sin\")\n",
    "      cos_series = pd.Series(np.cos(2 * np.pi * k * trend / len(y_dif)), name = \"cos\")\n",
    "\n",
    "      if autocorrelation == None and to_make_augmented == None:\n",
    "        if stocastics == None:\n",
    "          y_independents = pd.concat([y_lagged, sin_series, cos_series], axis=1)\n",
    "\n",
    "          model = sm.OLS(y_dif, y_independents)\n",
    "          results = model.fit()\n",
    "          return results\n",
    "\n",
    "        elif stocastics == \"c\":\n",
    "          y_independents = pd.concat([y_lagged, constant, sin_series, cos_series], axis=1)\n",
    "\n",
    "          model = sm.OLS(y_dif, y_independents)\n",
    "          results = model.fit()\n",
    "          return results\n",
    "\n",
    "        elif stocastics == \"t\":\n",
    "          y_independents = pd.concat([y_lagged, trend, sin_series, cos_series], axis=1)\n",
    "\n",
    "          model = sm.OLS(y_dif, y_independents)\n",
    "          results = model.fit()\n",
    "          return results\n",
    "\n",
    "        elif stocastics == \"t_c\":\n",
    "          y_independents = pd.concat([y_lagged, constant, trend, sin_series, cos_series], axis=1)\n",
    "\n",
    "          model = sm.OLS(y_dif, y_independents)\n",
    "          results = model.fit()\n",
    "          return results\n",
    "  #-------------------------------- Level Augemented Part\n",
    "      elif autocorrelation == True and to_make_augmented!= None:\n",
    "        y_dif_and_lagged = pd.DataFrame(sm.tsa.add_lag(y_dif, lags=to_make_augmented))\n",
    "        column_names = []\n",
    "        for i in range(0, len(y_dif_and_lagged.columns)):\n",
    "          if i == 0:\n",
    "            column_names.append(y_dif.name)\n",
    "          else:\n",
    "            column_names.append(y_dif.name + \"(t-\" + str(i) + \")\")\n",
    "        y_dif_and_lagged.columns = column_names\n",
    "\n",
    "        constant_as_dif_len = pd.Series(np.ones(len(y_dif_and_lagged)), name=\"constant\")\n",
    "        trend_as_dif_len = pd.Series(np.arange(1,len(y_dif_and_lagged)+1), name=\"trend\")\n",
    "\n",
    "        sin_series_aug = pd.Series(np.sin(2 * np.pi * k * trend_as_dif_len / len(y_dif_and_lagged)), name = \"sin\")\n",
    "        cos_series_aug = pd.Series(np.cos(2 * np.pi * k * trend_as_dif_len / len(y_dif_and_lagged)), name = \"cos\")\n",
    "\n",
    "        if stocastics == None:\n",
    "          y_independents = pd.concat([y_lagged.iloc[:-to_make_augmented], y_dif_and_lagged.iloc[:,1:], sin_series_aug, cos_series_aug], axis=1)\n",
    "          #print(pd.concat([y_dif_and_lagged.iloc[:,0:1],y_independents], axis=1).head())\n",
    "          model = sm.OLS(y_dif_and_lagged.iloc[:,0:1], y_independents)\n",
    "          results = model.fit()\n",
    "          return results\n",
    "\n",
    "        elif stocastics == \"c\":\n",
    "          y_independents = pd.concat([y_lagged.iloc[:-to_make_augmented], constant_as_dif_len, y_dif_and_lagged.iloc[:,1:], sin_series_aug, cos_series_aug], axis=1)\n",
    "          #print(pd.concat([y_dif_and_lagged.iloc[:,0:1],y_independents], axis=1).head())\n",
    "          model = sm.OLS(y_dif_and_lagged.iloc[:,0:1], y_independents)\n",
    "          results = model.fit()\n",
    "          return results\n",
    "\n",
    "        elif stocastics == \"t\":\n",
    "          y_independents = pd.concat([y_lagged.iloc[:-to_make_augmented], trend_as_dif_len, y_dif_and_lagged.iloc[:,1:], sin_series_aug, cos_series_aug], axis=1)\n",
    "          #print(pd.concat([y_dif_and_lagged.iloc[:,0:1],y_independents], axis=1).head())\n",
    "          model = sm.OLS(y_dif_and_lagged.iloc[:,0:1], y_independents)\n",
    "          results = model.fit()\n",
    "          return results\n",
    "\n",
    "        elif stocastics == \"t_c\":\n",
    "          y_independents = pd.concat([y_lagged.iloc[:-to_make_augmented], trend_as_dif_len, constant_as_dif_len, y_dif_and_lagged.iloc[:,1:], sin_series_aug, cos_series_aug], axis=1)\n",
    "          #print(pd.concat([y_dif_and_lagged.iloc[:,0:1],y_independents], axis=1).head())\n",
    "          model = sm.OLS(y_dif_and_lagged.iloc[:,0:1], y_independents)\n",
    "          results = model.fit()\n",
    "          return results\n",
    "\n",
    "        else:\n",
    "          print(\"Error\")\n",
    "\n",
    "      else:\n",
    "        print(\"Error\")\n",
    "  #---------------------1. FARK-------------------\n",
    "\n",
    "    elif test_level == 1:\n",
    "      y = data[dependent_variable]\n",
    "\n",
    "      y_dif_1 = y.diff().dropna()\n",
    "      y_dif = y_dif_1.diff().dropna()\n",
    "      y_dif.name = dependent_variable + \"_dif^2\"\n",
    "      y_dif = y_dif.reset_index(drop=True)\n",
    "\n",
    "      y_dif_lagged = sm.tsa.add_lag(y_dif_1, lags=1)\n",
    "      y_dif_lagged = pd.Series((y_dif_lagged[:,1:].reshape(len(y_dif_lagged,))), name = dependent_variable + \"_dif_(t-1)\")\n",
    "\n",
    "      constant = pd.Series(np.ones(len(y_dif)), name=\"constant\")\n",
    "      trend = pd.Series(np.arange(1,len(y_dif)+1), name=\"trend\")\n",
    "\n",
    "      sin_series = pd.Series(np.sin(2 * np.pi * k * trend / len(y_dif)), name = \"sin\")\n",
    "      cos_series = pd.Series(np.cos(2 * np.pi * k * trend / len(y_dif)), name = \"cos\")\n",
    "\n",
    "      if autocorrelation == None and to_make_augmented == None:\n",
    "        if stocastics == None:\n",
    "          y_independents = pd.concat([y_dif_lagged, sin_series, cos_series], axis=1)\n",
    "\n",
    "          model = sm.OLS(y_dif, y_independents)\n",
    "          results = model.fit()\n",
    "          return results\n",
    "\n",
    "        elif stocastics == \"c\":\n",
    "          y_independents = pd.concat([y_dif_lagged, constant, sin_series, cos_series], axis=1)\n",
    "\n",
    "          model = sm.OLS(y_dif, y_independents)\n",
    "          results = model.fit()\n",
    "          return results\n",
    "\n",
    "        elif stocastics == \"t\":\n",
    "          y_independents = pd.concat([y_dif_lagged, trend, sin_series, cos_series], axis=1)\n",
    "\n",
    "          model = sm.OLS(y_dif, y_independents)\n",
    "          results = model.fit()\n",
    "          return results\n",
    "\n",
    "        elif stocastics == \"t_c\":\n",
    "          y_independents = pd.concat([y_dif_lagged, constant, trend, sin_series, cos_series], axis=1)\n",
    "\n",
    "          model = sm.OLS(y_dif, y_independents)\n",
    "          results = model.fit()\n",
    "          return results\n",
    "\n",
    "      elif autocorrelation == True and to_make_augmented!= None:\n",
    "        y_dif_and_lagged = pd.DataFrame(sm.tsa.add_lag(y_dif, lags=to_make_augmented))\n",
    "        column_names = []\n",
    "\n",
    "        for i in range(0, len(y_dif_and_lagged.columns)):\n",
    "          if i == 0:\n",
    "            column_names.append(y_dif.name)\n",
    "          else:\n",
    "            column_names.append(y_dif.name + \"(t-\" + str(i) + \")\")\n",
    "\n",
    "        y_dif_and_lagged.columns = column_names\n",
    "\n",
    "        constant_as_dif_len = pd.Series(np.ones(len(y_dif_and_lagged)), name=\"constant\")\n",
    "        trend_as_dif_len = pd.Series(np.arange(1,len(y_dif_and_lagged)+1), name=\"trend\")\n",
    "\n",
    "        sin_series_aug = pd.Series(np.sin(2 * np.pi * k * trend_as_dif_len / len(y_dif_and_lagged)), name = \"sin\")\n",
    "        cos_series_aug = pd.Series(np.cos(2 * np.pi * k * trend_as_dif_len / len(y_dif_and_lagged)), name =\"cos\")\n",
    "\n",
    "        if stocastics == None:\n",
    "          y_independents = pd.concat([y_dif_lagged.iloc[:-to_make_augmented], y_dif_and_lagged.iloc[:,1:], sin_series_aug, cos_series_aug], axis=1)\n",
    "          #print(pd.concat([y_dif_and_lagged.iloc[:,0:1],y_independents], axis=1).head())\n",
    "          model = sm.OLS(y_dif_and_lagged.iloc[:,0:1], y_independents)\n",
    "          results = model.fit()\n",
    "          return results\n",
    "\n",
    "        elif stocastics == \"c\":\n",
    "          y_independents = pd.concat([y_dif_lagged.iloc[:-to_make_augmented], constant_as_dif_len, y_dif_and_lagged.iloc[:,1:], sin_series_aug, cos_series_aug], axis=1)\n",
    "          #print(pd.concat([y_dif_and_lagged.iloc[:,0:1],y_independents], axis=1).head())\n",
    "          model = sm.OLS(y_dif_and_lagged.iloc[:,0:1], y_independents)\n",
    "          results = model.fit()\n",
    "          return results\n",
    "\n",
    "        elif stocastics == \"t\":\n",
    "          y_independents = pd.concat([y_lagged.iloc[:-to_make_augmented], trend_as_dif_len, y_dif_and_lagged.iloc[:,1:], sin_series_aug, cos_series_aug], axis=1)\n",
    "          #print(pd.concat([y_dif_and_lagged.iloc[:,0:1],y_independents], axis=1).head())\n",
    "          model = sm.OLS(y_dif_and_lagged.iloc[:,0:1], y_independents)\n",
    "          results = model.fit()\n",
    "          return results\n",
    "\n",
    "        elif stocastics == \"t_c\":\n",
    "          y_independents = pd.concat([y_dif_lagged.iloc[:-to_make_augmented], trend_as_dif_len, constant_as_dif_len, y_dif_and_lagged.iloc[:,1:], sin_series_aug, cos_series_aug], axis=1)\n",
    "          #print(pd.concat([y_dif_and_lagged.iloc[:,0:1],y_independents], axis=1).head())\n",
    "          model = sm.OLS(y_dif_and_lagged.iloc[:,0:1], y_independents)\n",
    "          results = model.fit()\n",
    "          return results\n",
    "\n",
    "        else:\n",
    "          print(\"Error\")\n",
    "      else:\n",
    "        print(\"Error\")\n",
    "#---------------------------Fourier False\n",
    "  elif add_Fourier == False:\n",
    "    if test_level == \"Level\":\n",
    "      y = data[dependent_variable]\n",
    "\n",
    "      y_dif = y.diff().dropna()\n",
    "      y_dif.name = dependent_variable + \"_dif\"\n",
    "      y_dif = y_dif.reset_index(drop=True)\n",
    "\n",
    "      y_lagged = sm.tsa.add_lag(y, lags=1)\n",
    "      y_lagged = pd.Series((y_lagged[:,1:].reshape(len(y_lagged,))), name = dependent_variable + \"(t-1)\")\n",
    "\n",
    "      constant = pd.Series(np.ones(len(y_dif)), name=\"constant\")\n",
    "      trend = pd.Series(np.arange(1,len(y_dif)+1), name=\"trend\")\n",
    "\n",
    "      if autocorrelation == None and to_make_augmented == None:\n",
    "        if stocastics == None:\n",
    "          y_independents = pd.concat([y_lagged], axis=1)\n",
    "\n",
    "          model = sm.OLS(y_dif, y_independents)\n",
    "          results = model.fit()\n",
    "          return results\n",
    "\n",
    "        elif stocastics == \"c\":\n",
    "          y_independents = pd.concat([y_lagged, constant], axis=1)\n",
    "\n",
    "          model = sm.OLS(y_dif, y_independents)\n",
    "          results = model.fit()\n",
    "          return results\n",
    "\n",
    "        elif stocastics == \"t\":\n",
    "          y_independents = pd.concat([y_lagged, trend], axis=1)\n",
    "\n",
    "          model = sm.OLS(y_dif, y_independents)\n",
    "          results = model.fit()\n",
    "          return results\n",
    "\n",
    "        elif stocastics == \"t_c\":\n",
    "          y_independents = pd.concat([y_lagged, constant, trend], axis=1)\n",
    "\n",
    "          model = sm.OLS(y_dif, y_independents)\n",
    "          results = model.fit()\n",
    "          return results\n",
    "  #-------------------------------- Level Augemented Part\n",
    "      elif autocorrelation == True and to_make_augmented!= None:\n",
    "        y_dif_and_lagged = pd.DataFrame(sm.tsa.add_lag(y_dif, lags=to_make_augmented))\n",
    "        column_names = []\n",
    "        for i in range(0, len(y_dif_and_lagged.columns)):\n",
    "          if i == 0:\n",
    "            column_names.append(y_dif.name)\n",
    "          else:\n",
    "            column_names.append(y_dif.name + \"(t-\" + str(i) + \")\")\n",
    "        y_dif_and_lagged.columns = column_names\n",
    "\n",
    "        constant_as_dif_len = pd.Series(np.ones(len(y_dif_and_lagged)), name=\"constant\")\n",
    "        trend_as_dif_len = pd.Series(np.arange(1,len(y_dif_and_lagged)+1), name=\"trend\")\n",
    "\n",
    "        if stocastics == None:\n",
    "          y_independents = pd.concat([y_lagged.iloc[:-to_make_augmented], y_dif_and_lagged.iloc[:,1:]], axis=1)\n",
    "          #print(pd.concat([y_dif_and_lagged.iloc[:,0:1],y_independents], axis=1).head())\n",
    "          model = sm.OLS(y_dif_and_lagged.iloc[:,0:1], y_independents)\n",
    "          results = model.fit()\n",
    "          return results\n",
    "\n",
    "        elif stocastics == \"c\":\n",
    "          y_independents = pd.concat([y_lagged.iloc[:-to_make_augmented], constant_as_dif_len, y_dif_and_lagged.iloc[:,1:]], axis=1)\n",
    "          #print(pd.concat([y_dif_and_lagged.iloc[:,0:1],y_independents], axis=1).head())\n",
    "          model = sm.OLS(y_dif_and_lagged.iloc[:,0:1], y_independents)\n",
    "          results = model.fit()\n",
    "          return results\n",
    "\n",
    "        elif stocastics == \"t\":\n",
    "          y_independents = pd.concat([y_lagged.iloc[:-to_make_augmented], trend_as_dif_len, y_dif_and_lagged.iloc[:,1:]], axis=1)\n",
    "          #print(pd.concat([y_dif_and_lagged.iloc[:,0:1],y_independents], axis=1).head())\n",
    "          model = sm.OLS(y_dif_and_lagged.iloc[:,0:1], y_independents)\n",
    "          results = model.fit()\n",
    "          return results\n",
    "\n",
    "        elif stocastics == \"t_c\":\n",
    "          y_independents = pd.concat([y_lagged.iloc[:-to_make_augmented], trend_as_dif_len, constant_as_dif_len, y_dif_and_lagged.iloc[:,1:]], axis=1)\n",
    "          #print(pd.concat([y_dif_and_lagged.iloc[:,0:1],y_independents], axis=1).head())\n",
    "          model = sm.OLS(y_dif_and_lagged.iloc[:,0:1], y_independents)\n",
    "          results = model.fit()\n",
    "          return results\n",
    "\n",
    "        else:\n",
    "          print(\"Error\")\n",
    "\n",
    "      else:\n",
    "        print(\"Error\")\n",
    "  #---------------------1. FARK-------------------\n",
    "\n",
    "    elif test_level == 1:\n",
    "      y = data[dependent_variable]\n",
    "\n",
    "      y_dif_1 = y.diff().dropna()\n",
    "      y_dif = y_dif_1.diff().dropna()\n",
    "      y_dif.name = dependent_variable + \"_dif^2\"\n",
    "      y_dif = y_dif.reset_index(drop=True)\n",
    "\n",
    "      y_dif_lagged = sm.tsa.add_lag(y_dif_1, lags=1)\n",
    "      y_dif_lagged = pd.Series((y_dif_lagged[:,1:].reshape(len(y_dif_lagged,))), name = dependent_variable + \"_dif_(t-1)\")\n",
    "\n",
    "      constant = pd.Series(np.ones(len(y_dif)), name=\"constant\")\n",
    "      trend = pd.Series(np.arange(1,len(y_dif)+1), name=\"trend\")\n",
    "\n",
    "      if autocorrelation == None and to_make_augmented == None:\n",
    "        if stocastics == None:\n",
    "          y_independents = pd.concat([y_dif_lagged], axis=1)\n",
    "\n",
    "          model = sm.OLS(y_dif, y_independents)\n",
    "          results = model.fit()\n",
    "          return results\n",
    "\n",
    "        elif stocastics == \"c\":\n",
    "          y_independents = pd.concat([y_dif_lagged, constant], axis=1)\n",
    "\n",
    "          model = sm.OLS(y_dif, y_independents)\n",
    "          results = model.fit()\n",
    "          return results\n",
    "\n",
    "        elif stocastics == \"t\":\n",
    "          y_independents = pd.concat([y_dif_lagged, trend], axis=1)\n",
    "\n",
    "          model = sm.OLS(y_dif, y_independents)\n",
    "          results = model.fit()\n",
    "          return results\n",
    "\n",
    "        elif stocastics == \"t_c\":\n",
    "          y_independents = pd.concat([y_dif_lagged, constant, trend], axis=1)\n",
    "\n",
    "          model = sm.OLS(y_dif, y_independents)\n",
    "          results = model.fit()\n",
    "          return results\n",
    "\n",
    "      elif autocorrelation == True and to_make_augmented!= None:\n",
    "        y_dif_and_lagged = pd.DataFrame(sm.tsa.add_lag(y_dif, lags=to_make_augmented))\n",
    "        column_names = []\n",
    "\n",
    "        for i in range(0, len(y_dif_and_lagged.columns)):\n",
    "          if i == 0:\n",
    "            column_names.append(y_dif.name)\n",
    "          else:\n",
    "            column_names.append(y_dif.name + \"(t-\" + str(i) + \")\")\n",
    "\n",
    "        y_dif_and_lagged.columns = column_names\n",
    "\n",
    "        constant_as_dif_len = pd.Series(np.ones(len(y_dif_and_lagged)), name=\"constant\")\n",
    "        trend_as_dif_len = pd.Series(np.arange(1,len(y_dif_and_lagged)+1), name=\"trend\")\n",
    "\n",
    "        if stocastics == None:\n",
    "          y_independents = pd.concat([y_dif_lagged.iloc[:-to_make_augmented], y_dif_and_lagged.iloc[:,1:]], axis=1)\n",
    "          #print(pd.concat([y_dif_and_lagged.iloc[:,0:1],y_independents], axis=1).head())\n",
    "          model = sm.OLS(y_dif_and_lagged.iloc[:,0:1], y_independents)\n",
    "          results = model.fit()\n",
    "          return results\n",
    "\n",
    "        elif stocastics == \"c\":\n",
    "          y_independents = pd.concat([y_dif_lagged.iloc[:-to_make_augmented], constant_as_dif_len, y_dif_and_lagged.iloc[:,1:]], axis=1)\n",
    "          #print(pd.concat([y_dif_and_lagged.iloc[:,0:1],y_independents], axis=1).head())\n",
    "          model = sm.OLS(y_dif_and_lagged.iloc[:,0:1], y_independents)\n",
    "          results = model.fit()\n",
    "          return results\n",
    "\n",
    "        elif stocastics == \"t\":\n",
    "          y_independents = pd.concat([y_lagged.iloc[:-to_make_augmented], trend_as_dif_len, y_dif_and_lagged.iloc[:,1:]], axis=1)\n",
    "          #print(pd.concat([y_dif_and_lagged.iloc[:,0:1],y_independents], axis=1).head())\n",
    "          model = sm.OLS(y_dif_and_lagged.iloc[:,0:1], y_independents)\n",
    "          results = model.fit()\n",
    "          return results\n",
    "\n",
    "        elif stocastics == \"t_c\":\n",
    "          y_independents = pd.concat([y_dif_lagged.iloc[:-to_make_augmented], trend_as_dif_len, constant_as_dif_len, y_dif_and_lagged.iloc[:,1:]], axis=1)\n",
    "          #print(pd.concat([y_dif_and_lagged.iloc[:,0:1],y_independents], axis=1).head())\n",
    "          model = sm.OLS(y_dif_and_lagged.iloc[:,0:1], y_independents)\n",
    "          results = model.fit()\n",
    "          return results\n",
    "\n",
    "        else:\n",
    "          print(\"Error\")\n",
    "      else:\n",
    "        print(\"Error\")"
   ]
  },
  {
   "cell_type": "markdown",
   "metadata": {
    "id": "eH4_V_NeFf7I"
   },
   "source": [
    "### SELECTING MODEL PARAMETERS"
   ]
  },
  {
   "cell_type": "code",
   "execution_count": 18,
   "metadata": {
    "id": "S-FvAXZiFkZ9"
   },
   "outputs": [],
   "source": [
    "test_level_select = \"Level\"\n",
    "autocorrelation_select = True\n",
    "to_make_augmented_select = 12\n",
    "stocastics_select = \"t_c\"\n",
    "add_Fourier_select = True"
   ]
  },
  {
   "cell_type": "markdown",
   "metadata": {
    "id": "PjqQSGQ3Gllu"
   },
   "source": [
    "### SELECTING OPTIMAL k VALUE"
   ]
  },
  {
   "cell_type": "code",
   "execution_count": 20,
   "metadata": {
    "id": "mzfU8wt5xk8E"
   },
   "outputs": [],
   "source": [
    "AIC = []\n",
    "BIC = []\n",
    "k = []\n",
    "def model_select():\n",
    "  for i in range(1,6):\n",
    "    returned_results = Fourier_ADF(test_level = test_level_select,\n",
    "                                  autocorrelation = autocorrelation_select,\n",
    "                                  to_make_augmented = to_make_augmented_select,\n",
    "                                  stocastics = stocastics_select,\n",
    "                                  k=i,\n",
    "                                  add_Fourier = add_Fourier_select)\n",
    "    AIC.append(returned_results.aic)\n",
    "    BIC.append(returned_results.bic)\n",
    "    k.append(i)\n",
    "\n",
    "    model_selection = pd.concat([pd.Series(k, name = \"k\"),pd.Series(AIC, name = \"AIC\"), pd.Series(BIC, name = \"BIC\")], axis = 1)\n",
    "\n",
    "    model_selection = model_selection.set_index(\"k\")\n",
    "    min_AIC = model_selection[\"AIC\"].idxmin()\n",
    "\n",
    "  return min_AIC"
   ]
  },
  {
   "cell_type": "code",
   "execution_count": 21,
   "metadata": {
    "colab": {
     "base_uri": "https://localhost:8080/"
    },
    "id": "6lQvLuvMAPyM",
    "outputId": "1534e0c9-5b75-4f88-bcc3-6301a4b78735"
   },
   "outputs": [
    {
     "name": "stdout",
     "output_type": "stream",
     "text": [
      "Optimal Frequency (k) Value: 5\n"
     ]
    }
   ],
   "source": [
    "optimal_k = model_select()\n",
    "print(f'Optimal Frequency (k) Value:', optimal_k)"
   ]
  },
  {
   "cell_type": "markdown",
   "metadata": {
    "id": "n_VjFQJWB4ch"
   },
   "source": [
    "### RE-RUNNING THE MODEL AFTER SELECTING THE OPTIMAL k VALUE"
   ]
  },
  {
   "cell_type": "code",
   "execution_count": 23,
   "metadata": {
    "colab": {
     "base_uri": "https://localhost:8080/"
    },
    "id": "9c2EAScaB3-h",
    "outputId": "bedaef96-06f3-4ed3-c442-9bf45047bd8b"
   },
   "outputs": [
    {
     "name": "stdout",
     "output_type": "stream",
     "text": [
      "                            OLS Regression Results                            \n",
      "==============================================================================\n",
      "Dep. Variable:                 CH_dif   R-squared:                       0.456\n",
      "Model:                            OLS   Adj. R-squared:                  0.384\n",
      "Method:                 Least Squares   F-statistic:                     6.331\n",
      "Date:                Sun, 17 Nov 2024   Prob (F-statistic):           4.51e-10\n",
      "Time:                        14:46:21   Log-Likelihood:                -1224.6\n",
      "No. Observations:                 138   AIC:                             2483.\n",
      "Df Residuals:                     121   BIC:                             2533.\n",
      "Df Model:                          16                                         \n",
      "Covariance Type:            nonrobust                                         \n",
      "================================================================================\n",
      "                   coef    std err          t      P>|t|      [0.025      0.975]\n",
      "--------------------------------------------------------------------------------\n",
      "CH(t-1)         -0.2481      0.122     -2.031      0.044      -0.490      -0.006\n",
      "trend            1.1652      4.037      0.289      0.773      -6.827       9.157\n",
      "constant      -542.8516    435.477     -1.247      0.215   -1404.993     319.290\n",
      "CH_dif(t-1)     -0.4488      0.086     -5.239      0.000      -0.618      -0.279\n",
      "CH_dif(t-2)     -0.2819      0.096     -2.938      0.004      -0.472      -0.092\n",
      "CH_dif(t-3)     -0.2640      0.098     -2.700      0.008      -0.458      -0.070\n",
      "CH_dif(t-4)     -0.3987      0.098     -4.050      0.000      -0.594      -0.204\n",
      "CH_dif(t-5)     -0.4871      0.105     -4.618      0.000      -0.696      -0.278\n",
      "CH_dif(t-6)     -0.3239      0.114     -2.847      0.005      -0.549      -0.099\n",
      "CH_dif(t-7)     -0.4345      0.118     -3.695      0.000      -0.667      -0.202\n",
      "CH_dif(t-8)     -0.4374      0.122     -3.593      0.000      -0.678      -0.196\n",
      "CH_dif(t-9)     -0.5231      0.128     -4.101      0.000      -0.776      -0.271\n",
      "CH_dif(t-10)    -0.4929      0.137     -3.606      0.000      -0.764      -0.222\n",
      "CH_dif(t-11)    -0.2140      0.144     -1.490      0.139      -0.498       0.070\n",
      "CH_dif(t-12)     0.0932      0.143      0.652      0.516      -0.190       0.376\n",
      "sin           -385.9128    277.808     -1.389      0.167    -935.907     164.081\n",
      "cos           -612.6195    259.848     -2.358      0.020   -1127.058     -98.181\n",
      "==============================================================================\n",
      "Omnibus:                        0.411   Durbin-Watson:                   2.077\n",
      "Prob(Omnibus):                  0.814   Jarque-Bera (JB):                0.371\n",
      "Skew:                          -0.124   Prob(JB):                        0.831\n",
      "Kurtosis:                       2.949   Cond. No.                     1.10e+04\n",
      "==============================================================================\n",
      "\n",
      "Notes:\n",
      "[1] Standard Errors assume that the covariance matrix of the errors is correctly specified.\n",
      "[2] The condition number is large, 1.1e+04. This might indicate that there are\n",
      "strong multicollinearity or other numerical problems.\n"
     ]
    }
   ],
   "source": [
    "returned_results = Fourier_ADF(test_level = test_level_select,\n",
    "                                  autocorrelation = autocorrelation_select,\n",
    "                                  to_make_augmented = to_make_augmented_select,\n",
    "                                  stocastics = stocastics_select,\n",
    "                                  k = optimal_k,\n",
    "                                  add_Fourier = add_Fourier_select)\n",
    "print(returned_results.summary())"
   ]
  },
  {
   "cell_type": "markdown",
   "metadata": {
    "id": "fQB4nhyTtF-p"
   },
   "source": [
    "### AUTOCORRELATION TEST"
   ]
  },
  {
   "cell_type": "code",
   "execution_count": 25,
   "metadata": {
    "colab": {
     "base_uri": "https://localhost:8080/",
     "height": 786
    },
    "id": "uFGGF7JCpBgA",
    "outputId": "73063f49-bdd4-44c4-9d7e-5a44b2398669"
   },
   "outputs": [
    {
     "name": "stdout",
     "output_type": "stream",
     "text": [
      "         ACF      PACF      Qstat   Pvalue\n",
      "0   1.000000  1.000000   0.286229  0.59265\n",
      "1  -0.045052 -0.045381   0.578553  0.74880\n",
      "2  -0.045363 -0.048188   0.680012  0.87790\n",
      "3   0.026626  0.022942   1.891778  0.75566\n",
      "4   0.091677  0.095017   2.937192  0.70967\n",
      "5   0.084833  0.100745   3.102014  0.79594\n",
      "6   0.033558  0.054093   3.105610  0.87506\n",
      "7  -0.004938  0.003212   4.067146  0.85102\n",
      "8   0.080436  0.076443   4.378931  0.88475\n",
      "9   0.045627  0.038827   4.549160  0.91919\n",
      "10 -0.033583 -0.041610   4.967860  0.93271\n",
      "11 -0.052463 -0.072952   5.867754  0.92260\n",
      "12 -0.076609 -0.120881   6.167832  0.93983\n",
      "13  0.044062  0.006418   6.365303  0.95643\n",
      "14  0.035601  0.029882   8.400687  0.90672\n",
      "15 -0.113834 -0.104643   8.724508  0.92432\n",
      "16 -0.045220 -0.039975   9.403449  0.92675\n",
      "17 -0.065209 -0.085379   9.414509  0.94935\n",
      "18 -0.008288 -0.015389   9.671555  0.96059\n",
      "19 -0.039790 -0.026153  12.153974  0.91067\n",
      "20 -0.123133 -0.109042  12.156664  0.93529\n",
      "21  0.004036  0.016337        NaN      NaN\n"
     ]
    },
    {
     "data": {
      "image/png": "[encoded data removed]",
      "text/plain": [
       "<Figure size 1000x400 with 2 Axes>"
      ]
     },
     "metadata": {},
     "output_type": "display_data"
    }
   ],
   "source": [
    "#ACF VALUES\n",
    "acf_results = sm.tsa.acf(returned_results.resid, alpha=0.05, qstat=True, missing='drop')\n",
    "acf_coeffs = pd.DataFrame(acf_results[0])\n",
    "acf_qstat=pd.DataFrame(acf_results[2])\n",
    "acf_pvalues = pd.DataFrame(acf_results[3].round(5))\n",
    "\n",
    "#PACF VALUES\n",
    "pacf_results = sm.tsa.pacf(returned_results.resid, alpha=0.05)\n",
    "pacf_coeff=pd.DataFrame(pacf_results[0])\n",
    "\n",
    "show_acf=pd.concat([acf_coeffs, pacf_coeff, acf_qstat, acf_pvalues], axis = 1)\n",
    "show_acf.columns=['ACF', 'PACF','Qstat','Pvalue']\n",
    "print(show_acf)\n",
    "\n",
    "# Tek figür içinde ACF ve PACF\n",
    "fig, axes = plt.subplots(2, 1, figsize=(10, 4))  # 2 satır, 1 sütun; figür boyutu 10x8\n",
    "\n",
    "# ACF Plot\n",
    "sgt.plot_acf(returned_results.resid,\n",
    "             zero=False,\n",
    "             alpha=0.05,\n",
    "             ax=axes[0])\n",
    "axes[0].set_xlabel(\"Lag\")\n",
    "axes[0].set_ylabel(\"Autocorrelation\")\n",
    "axes[0].set_title(\"ACF\")\n",
    "\n",
    "# PACF Plot\n",
    "sgt.plot_pacf(returned_results.resid,\n",
    "              zero=False,\n",
    "              method='ols',\n",
    "              ax=axes[1])\n",
    "axes[1].set_xlabel(\"Lag\")\n",
    "axes[1].set_ylabel(\"Partial Autocorrelation\")\n",
    "axes[1].set_title(\"PACF\")\n",
    "\n",
    "plt.tight_layout()\n",
    "plt.show()"
   ]
  },
  {
   "cell_type": "markdown",
   "metadata": {
    "id": "o25n8kgu5PAD"
   },
   "source": [
    "### TESTING THE COEFFICIENTS OF SINE AND COSINE FUNCTIONS WITH F-TEST"
   ]
  },
  {
   "cell_type": "code",
   "execution_count": 27,
   "metadata": {
    "colab": {
     "base_uri": "https://localhost:8080/"
    },
    "id": "spoBXkGb1rr-",
    "outputId": "9179364d-7d2d-4e3b-aca9-03ac4d91a60e"
   },
   "outputs": [
    {
     "name": "stdout",
     "output_type": "stream",
     "text": [
      "<F test: F=3.531487383610128, p=0.0323137948074992, df_denom=121, df_num=2>\n"
     ]
    }
   ],
   "source": [
    "print(returned_results.f_test(\"sin=cos=0\"))\n",
    "f_value = returned_results.f_test(\"sin=cos=0\").fvalue"
   ]
  },
  {
   "cell_type": "markdown",
   "metadata": {},
   "source": [
    "### F Statistics"
   ]
  },
  {
   "cell_type": "code",
   "execution_count": 29,
   "metadata": {},
   "outputs": [
    {
     "name": "stdout",
     "output_type": "stream",
     "text": [
      "     T    1%    5%   10%\n",
      "1  200  11.7  8.88  7.62\n"
     ]
    }
   ],
   "source": [
    "if stocastics_select == \"t_c\":\n",
    "    if returned_results.nobs <= 100:\n",
    "        print(critical_values_t_c_F[(critical_values_t_c_F[\"T\"] == 100)])   \n",
    "    elif  100 < returned_results.nobs <= 200:\n",
    "        print(critical_values_t_c_F[(critical_values_t_c_F[\"T\"] == 200)])\n",
    "    elif  200 < returned_results.nobs <= 500:\n",
    "        print(critical_values_t_c_F[(critical_values_t_c_F[\"T\"] == 500)]) \n",
    "    else:\n",
    "        print(critical_values_t_c_F[(critical_values_t_c_F[\"T\"] == 2500)]) \n",
    "elif stocastics_select == \"c\":\n",
    "    if returned_results.nobs <= 100:\n",
    "        print(critical_values_c_F[(critical_values_c_F[\"T\"] == 100)])   \n",
    "    elif  100 < returned_results.nobs <= 200:\n",
    "        print(critical_values_c_F[(critical_values_c_F[\"T\"] == 200)])\n",
    "    elif  200 < returned_results.nobs <= 500:\n",
    "        print(critical_values_c_F[(critical_values_c_F[\"T\"] == 500)]) \n",
    "    else:\n",
    "        print(critical_values_c_F[(critical_values_c_F[\"T\"] == 2500)])\n",
    "else:\n",
    "    print(\"Error\")"
   ]
  },
  {
   "cell_type": "markdown",
   "metadata": {},
   "source": [
    "### t Statistics"
   ]
  },
  {
   "cell_type": "code",
   "execution_count": 31,
   "metadata": {
    "id": "FnAFDHEwzi1U"
   },
   "outputs": [
    {
     "name": "stdout",
     "output_type": "stream",
     "text": [
      "    k    T    1%    5%   10%\n",
      "17  5  200 -4.18 -3.56 -3.24\n"
     ]
    }
   ],
   "source": [
    "if stocastics_select == \"t_c\":\n",
    "    if returned_results.nobs <= 100:\n",
    "        print(critical_values_t_c[(critical_values_t_c[\"T\"] == 100) & (critical_values_t_c[\"k\"] == optimal_k)])   \n",
    "    elif  100 < returned_results.nobs <= 200:\n",
    "        print(critical_values_t_c[(critical_values_t_c[\"T\"] == 200) & (critical_values_t_c[\"k\"] == optimal_k)])\n",
    "    elif  200 < returned_results.nobs <= 500:\n",
    "        print(critical_values_t_c[(critical_values_t_c[\"T\"] == 500) & (critical_values_t_c[\"k\"] == optimal_k)])\n",
    "    else:\n",
    "        print(critical_values_t_c[(critical_values_t_c[\"T\"] == 2500) & (critical_values_t_c[\"k\"] == optimal_k)])\n",
    "elif stocastics_select == \"c\":\n",
    "    if returned_results.nobs <= 100:\n",
    "        print(critical_values_c[(critical_values_c[\"T\"] == 100) & (critical_values_c[\"k\"] == optimal_k)])   \n",
    "    elif  100 < returned_results.nobs <= 200:\n",
    "        print(critical_values_c[(critical_values_c[\"T\"] == 200) & (critical_values_c[\"k\"] == optimal_k)])\n",
    "    elif  200 < returned_results.nobs <= 500:\n",
    "        print(critical_values_c[(critical_values_c[\"T\"] == 500) & (critical_values_c[\"k\"] == optimal_k)])\n",
    "    else:\n",
    "        print(critical_values_t_c[(critical_values_c[\"T\"] == 2500) & (critical_values_c[\"k\"] == optimal_k)])"
   ]
  },
  {
   "cell_type": "code",
   "execution_count": 32,
   "metadata": {},
   "outputs": [
    {
     "name": "stdout",
     "output_type": "stream",
     "text": [
      "t statistic value of rho: -2.031125916051947\n"
     ]
    }
   ],
   "source": [
    "print(\"t statistic value of rho:\", returned_results.params[0]/returned_results.bse[0])"
   ]
  }
 ],
 "metadata": {
  "colab": {
   "provenance": []
  },
  "kernelspec": {
   "display_name": "Python 3 (ipykernel)",
   "language": "python",
   "name": "python3"
  },
  "language_info": {
   "codemirror_mode": {
    "name": "ipython",
    "version": 3
   },
   "file_extension": ".py",
   "mimetype": "text/x-python",
   "name": "python",
   "nbconvert_exporter": "python",
   "pygments_lexer": "ipython3",
   "version": "3.12.7"
  }
 },
 "nbformat": 4,
 "nbformat_minor": 4
}
